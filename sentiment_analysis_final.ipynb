{
  "nbformat": 4,
  "nbformat_minor": 0,
  "metadata": {
    "colab": {
      "provenance": []
    },
    "kernelspec": {
      "name": "python3",
      "display_name": "Python 3"
    },
    "language_info": {
      "name": "python"
    }
  },
  "cells": [
    {
      "cell_type": "code",
      "execution_count": null,
      "metadata": {
        "colab": {
          "base_uri": "https://localhost:8080/"
        },
        "id": "U6B40M-csJah",
        "outputId": "702622ff-f041-4ff8-fed2-1b8e67673691"
      },
      "outputs": [
        {
          "output_type": "stream",
          "name": "stdout",
          "text": [
            "Mounted at /content/drive/\n"
          ]
        }
      ],
      "source": [
        "# Mounting Google Drive\n",
        "from google.colab import drive\n",
        "drive.mount('/content/drive/')"
      ]
    },
    {
      "cell_type": "code",
      "source": [
        "# Installing Natural Language Tool Kit \n",
        "# pip install nltk"
      ],
      "metadata": {
        "id": "_EjoQEoSsOJB"
      },
      "execution_count": null,
      "outputs": []
    },
    {
      "cell_type": "code",
      "source": [
        "import nltk\n",
        "nltk.download('punkt')\n",
        "nltk.download('stopwords')\n",
        "nltk.download('wordnet')\n",
        "nltk.download('omw-1.4')\n",
        "\n",
        "from collections import defaultdict\n",
        "import math\n",
        "\n",
        "from nltk.corpus import stopwords\n",
        "from nltk.stem import WordNetLemmatizer\n",
        "from nltk.tokenize import RegexpTokenizer\n",
        "import pandas as pd"
      ],
      "metadata": {
        "colab": {
          "base_uri": "https://localhost:8080/"
        },
        "id": "jZECDzfusPcN",
        "outputId": "93e47313-76f3-4528-bca8-13d0ce22eabd"
      },
      "execution_count": null,
      "outputs": [
        {
          "output_type": "stream",
          "name": "stderr",
          "text": [
            "[nltk_data] Downloading package punkt to /root/nltk_data...\n",
            "[nltk_data]   Unzipping tokenizers/punkt.zip.\n",
            "[nltk_data] Downloading package stopwords to /root/nltk_data...\n",
            "[nltk_data]   Unzipping corpora/stopwords.zip.\n",
            "[nltk_data] Downloading package wordnet to /root/nltk_data...\n",
            "[nltk_data] Downloading package omw-1.4 to /root/nltk_data...\n"
          ]
        }
      ]
    },
    {
      "cell_type": "code",
      "source": [
        "# Read in manually labeled text review data\n",
        "df = pd.read_csv(\"/content/drive/MyDrive/Grad School/MSBA/Big Data Tech/test_labeled_data.csv\")\n",
        "print(df)"
      ],
      "metadata": {
        "colab": {
          "base_uri": "https://localhost:8080/"
        },
        "id": "I-5zpMAVsQvw",
        "outputId": "47802962-69b8-4089-bcf4-3446555c9ee9"
      },
      "execution_count": null,
      "outputs": [
        {
          "output_type": "stream",
          "name": "stdout",
          "text": [
            "                                                   Text sentiment\n",
            "0        the peanuts were actually small sized unsalted  negative\n",
            "1     Not sure if this was an error or if the vendor...  negative\n",
            "2     If you are looking for the secret ingredient i...  negative\n",
            "3                          The flavor is very medicinal  negative\n",
            "4     My only complaint is there was a bit too much ...  negative\n",
            "...                                                 ...       ...\n",
            "2092  I absolutely LOVE the pumpkin spice latte they...  positive\n",
            "2093  While there is no nutmeg on top this stuff sti...  positive\n",
            "2094  I can just heat up a small pan of milk on the ...  positive\n",
            "2095         Also it is cheaper than going to Starbucks  positive\n",
            "2096  Their grande size latte is about $4 whereas on...  positive\n",
            "\n",
            "[2097 rows x 2 columns]\n"
          ]
        }
      ]
    },
    {
      "cell_type": "code",
      "source": [
        "# Split data into X and y variables\n",
        "X = df['Text']\n",
        "\n",
        "df['sentiment'] = df['sentiment'].replace(\"negative\", 0)\n",
        "df['sentiment'] = df['sentiment'].replace(\"positive\", 1)\n",
        "y = df['sentiment']\n",
        "\n",
        "print(X)\n",
        "print(y)"
      ],
      "metadata": {
        "colab": {
          "base_uri": "https://localhost:8080/"
        },
        "id": "TbENM-0XsSsj",
        "outputId": "ff01ab5d-d0cb-4f33-ee19-c6067199d677"
      },
      "execution_count": null,
      "outputs": [
        {
          "output_type": "stream",
          "name": "stdout",
          "text": [
            "0          the peanuts were actually small sized unsalted\n",
            "1       Not sure if this was an error or if the vendor...\n",
            "2       If you are looking for the secret ingredient i...\n",
            "3                            The flavor is very medicinal\n",
            "4       My only complaint is there was a bit too much ...\n",
            "                              ...                        \n",
            "2092    I absolutely LOVE the pumpkin spice latte they...\n",
            "2093    While there is no nutmeg on top this stuff sti...\n",
            "2094    I can just heat up a small pan of milk on the ...\n",
            "2095           Also it is cheaper than going to Starbucks\n",
            "2096    Their grande size latte is about $4 whereas on...\n",
            "Name: Text, Length: 2097, dtype: object\n",
            "0       0\n",
            "1       0\n",
            "2       0\n",
            "3       0\n",
            "4       0\n",
            "       ..\n",
            "2092    1\n",
            "2093    1\n",
            "2094    1\n",
            "2095    1\n",
            "2096    1\n",
            "Name: sentiment, Length: 2097, dtype: int64\n"
          ]
        }
      ]
    },
    {
      "cell_type": "code",
      "source": [
        "# Tokenization is the process of splitting sentences into smaller units.\n",
        "# Using word_tokenize() function to tokenize sentences\n",
        "df['Tokens'] = df['Text'].map(lambda x: nltk.word_tokenize(x))\n",
        "print(df['Tokens'])"
      ],
      "metadata": {
        "colab": {
          "base_uri": "https://localhost:8080/"
        },
        "id": "Kkb0vZ_CsUXy",
        "outputId": "1d558701-0d5a-4384-b09d-96a5d3eaf172"
      },
      "execution_count": null,
      "outputs": [
        {
          "output_type": "stream",
          "name": "stdout",
          "text": [
            "0       [the, peanuts, were, actually, small, sized, u...\n",
            "1       [Not, sure, if, this, was, an, error, or, if, ...\n",
            "2       [If, you, are, looking, for, the, secret, ingr...\n",
            "3                      [The, flavor, is, very, medicinal]\n",
            "4       [My, only, complaint, is, there, was, a, bit, ...\n",
            "                              ...                        \n",
            "2092    [I, absolutely, LOVE, the, pumpkin, spice, lat...\n",
            "2093    [While, there, is, no, nutmeg, on, top, this, ...\n",
            "2094    [I, can, just, heat, up, a, small, pan, of, mi...\n",
            "2095    [Also, it, is, cheaper, than, going, to, Starb...\n",
            "2096    [Their, grande, size, latte, is, about, $, 4, ...\n",
            "Name: Tokens, Length: 2097, dtype: object\n"
          ]
        }
      ]
    },
    {
      "cell_type": "code",
      "source": [
        "# Making each Text review lowercase\n",
        "import string\n",
        "STOP_WORDS = stopwords.words('english')\n",
        "from nltk.stem import PorterStemmer\n",
        "ps = PorterStemmer()\n",
        "import re \n",
        "\n",
        "lower_case_list = []\n",
        "lower_case_token = \"\"\n",
        "for i in range(0,len(df['Tokens'])):\n",
        "  tokens = df['Tokens'][i]\n",
        "  for w in range(0,len(tokens)):\n",
        "    # lower case each token\n",
        "    tokens[w] = tokens[w].lower()\n",
        "    # remove punctuation from each token\n",
        "    tokens[w] = tokens[w].translate(str.maketrans('', '', string.punctuation))\n",
        "    # remove stop words\n",
        "    if tokens[w] in STOP_WORDS:\n",
        "      continue\n",
        "    # stem words\n",
        "    tokens[w] = ps.stem(tokens[w])\n",
        "    lower_case_token = lower_case_token + \" \" + tokens[w]\n",
        "    lower_case_token = re.sub('\\s+',' ',lower_case_token)\n",
        "    lower_case_token = lower_case_token.lstrip()\n",
        "  lower_case_list.append(lower_case_token)\n",
        "  lower_case_token = \"\"\n",
        "\n",
        "print(lower_case_list)"
      ],
      "metadata": {
        "colab": {
          "base_uri": "https://localhost:8080/"
        },
        "id": "bMAdwykZSaMY",
        "outputId": "ca007d52-137b-49a7-8a65-39336c6524d7"
      },
      "execution_count": null,
      "outputs": [
        {
          "output_type": "stream",
          "name": "stdout",
          "text": [
            "['peanut actual small size unsalt', 'sure error vendor intend repres product jumbo ', 'look secret ingredi robitussin believ found', 'flavor medicin', 'complaint bit much redblack licoriceflavor piec particular favorit ', 'realiz simpli could nt find anywher citi bum', 'higher food sit go stale', 'tri new food first put bowl bowl sit full kitti touch food', 'unfortun need find new food cat eat', 'candi red flavor', 'plain chewi', 'would never buy', 'never huge coffe fan', 'escap fact howev even best instant oatmeal nowher near good even store brand oatmeal requir stovetop prepar', 'one thing like though mccann use thicken', 'oat plu water plu heat make creami tasti oatmeal without need guar gum', 'mayb guar gum sit bowl instant mccann becom thick gluey', 'instant oatmeal becom soggi minut water hit bowl', 'mccann regular oat meal excel may take bit longer prepar time morn', 'still oatmeal', 'appl cinnamon though tend littl liquidi may want experi amount water add', 'bad thing consid bad thing offer buy lot end six tencount box', 'seem littl wholesom supermarket brand somewhat mushi nt quit much flavor either', 'nt pass muster kid probabl wo nt buy', 'though would nt follow direct packag sinc alway come soupi tast', 'howev see differc oaker oat brand mushi', 'noth healthi', 'carb sugar', 'save money get someth least tast', 'oatmeal good', 'mushi soft nt like', 'nt stock last time look', 'shaken ensur spice evenli distribut', 'use spici food south texa spici', 'doubt much habanero use', 'could take notch two', 'watch price', 'assort good get gold box purchas price 34 less target', 'bag candi onlin pretti expens cheaper order compet groceri store good combin favorit candi', 'arriv 6 day stale could eat 6 bag', 'purchas mango flavor nt take like mango', 'hint sweet unfortun hint aftertast almost like licoric', 'mango flavor one least appeal tast', 'terribl bad enough notic bad tast everi sip take', 'retrospect price littl ridicul esp', 'buyer bewar pleas', 'sweeten everybodi', 'maltitol alcohol sugar undigest bodi', 'know short time consum one unsuspect mani digest extrem intestin bloat cramp massiv amount ga person experi', 'nausea diarrhea headach also experienc', 'thought found sugarfre chocol nirvana first tast bliss short live terribl side effect maltitol kick', 'discomfort unlik anyth ever felt', 'blew like balloon pain abdomin cramp', 'symptom pass unpleas', 'though hard believ low calori sweeten could culprit symptom gone stop eat chocol', 'hunch someth maltitol unfortun confirm year later purchas delici sugarfre popcorn local market', 'tast amaz look label wonder could possibl make yummi new sugarfre treat tast good heart sank follow littl asterisk next sugarfre sweeten bottom label read maltitol tini littl letter', 'thank good eaten littl', 'still end sideeffect much shorter durat', 'peopl use maltitol heart content other like bad reaction', 'would go way buy', 'tea flavor', 'whole brunch artifi flavor', 'return', 'wast 20 buck', 'unfortun arriv solid mass melt chocol', 'left pantri day open room temperatur still gooey', 'wo nt order onlin see store would pick', 'insul packag ice pack melt warm weather like chocol food item', 'tast great berri melt', 'realli nt think good bodi', 'also think powder expens use', 'dog like flavor tri dog food reason itch increas tri lamb rice', 'howev given boston sever reaction food ingredi itch increas violent jump bed night scratch', 'soon chang differ formula scratch stop', 'tend stay away fish type though smell', 'fed golden retriev hate', 'would nt eat gave terribl diarrhea', 'buy', 'also super expens', 'draw back ship cost', 'heavi', 'arriv slightli thaw', 'sourtart tast', 'husband love howev anoth custom put expens ship', 'cost ship tartlet', 'expect term compani reput excel home deliveri product', 'diappoint flavor textur mix', 'usual like low carb thing tri diappoint specif one', 'use purchas doctor offic nt avail elsewher', 'final realiz drink much coffe healthi', 'also give treat much expens tea tribut xi hu long jing fantast tea practic drink everi day tea although would could afford ', 'con latest shipment packag shown amazon page differ one ship', 'sure green tea caffen free', 'con sometim tea bag rip open unwrap string around tea bag', 'simpl delici sold us back', 'older male overweight tri switch soft food doctor request total refus', 'start buy notic 1 year old cat alreadi start lose spunk decid time start buy real cat food', 'garbag super market', 'began look replac', 'one cat allerg fish beef', 'bad way expens amazon', 'love spici ramen whatev reason thing burn stomach badli burn sensat nt go away like 3 hour', '28 way cheaper amazon', 'must bit wuss soup tast imagin fire might tast', 'nt find case soup', 'flavor kill burn', 'nt eat flavor anymor tast bland comparison', 'conveni deliv home prime get two day nt pay ship price amazon nt bad still cheaper run pick case groceri store', 'complaint one bag broke open ship', 'black cherri good tast strawberri tast delic bare', 'might mistaken appear piec bag reduc size', 'problem piec certain size order enough flavor eat experi', 'use 2 3 piec match old piec size ', 'salsa smell delici think probabl unfortun person amazon packer probabl sever littl stuf work especi bottom', 'therefor bottom broken three bottl', 'reach comput told return caus food item ', 'look custom servic tag found none new face lift', 'least place contact emerg', 'never would ship thingsespeci salsa cardboard box stripe larg bubbl wrap', 'matter much carrier fed ex care go break somewher along line', 'two come worth money', 'kind bland favorit back natur product', 'sure amazon sell 9', '99 box 24 singl', 'hazelnut coffe creamer favorit truli good buy', 'evid carri store summer harvest time fall could nt find anywher town', 'wear one headlamp nt good job focus tuna', 'film nt look like mani peopl view product anyway', 'tast tuna pleasant much basil spice', 'tuna tast like good qualiti found tomato basil flavor bit bland', 'better someth plain nt pack punch hope fo', 'serious product tasteless come', 'nt made anyth yet eaten littl bit time wow decad', 'nt know long sat back shelf somewher old would nt cook', 'throw half skin damag clear sign dri bean past prime', 'ca nt even return ask refund food return', 'find differ brand use', 'fifti serv bean throw away', 'besid smaller runt look consist', 'unfortun tast noth like banana runt', 'even tast good', 'yucki stuff', 'item fine banana head like banana runt alot small', 'also receiv item packag great', 'banana head come open ship pack envelop', 'wish bit cheaper love product', 'product still realli good tast qualiti cheaper brand name almost', 'slightli odd flavor perhap preserv', 'sure wish could order frozen juic', 'plan drive perform activ recommend', 'gave product 3 star instead 5 deserv pack job margin best', 'product arriv 2 broken bottl price 6 loss', 'bottl glass wrap one layer smallbubbl bubbl wrap around case place larger box extra room move around box', 'big pack fail product awesom', 'smell kinda strong bad', 'nescaf mount hagen better bought tri someth two probabl wo nt get', 'slight vitamini tast overwhelm', 'also bit pricey get', 'howev wish came sort reseal jar hard plastic contain instead ziplock pouch ziplock rip quit work awhil', 'like better regular altoid even costli better like', 'care eat mani one day one chemic lax', 'even small contain nt fill', 'littl tin less half fill price charg seem ripoff', 'exot ingredi costli gold contain tini squar', 'cereal ploy fill factori settl transport', 'manufactur honest deal', 'hard find wintergreen small sugar free store red small peppermint common flavor ', 'noth like regular altoid breath mint', 'minti strong wintergreen definit weaker peppermint mini', 'dragonbreath person still one mint small effect breath', 'made litter superstink', 'small kibbl cat barf nt chew swallow', 'felida done trick', 'buster youngest still blob six month plu felida senior overweight cat', 'time cat could nt keep', 'mess', 'move', 'chang without put label', 'notic color food chang smell', 'notic also reviewd canida happen time dog issu', 'start noitc eat much start bug us', 'nt custom yell dog food make dog sick', 'right away chang cat food start chow nt suffer one bit like dog', 'cat sensitv anim chang thier food could caus stop eat', 'anyon think purchas food', '5 rescu fix cat none picki eater chang formula could death found chang formula', 'urg anyon problem go consum affair websit also fda websit write letter let know affect anim', 'canida care chang affect anim tell buy', 'horribl', 'husband kind wimpi come hot thing season bit spici us', 'definit make sweat bit eat', 'still edibl us ad good size dollop sour cream nt think would buy due heat', 'one packag use next time go add veggi mayb chop tomato cut heat bit', 'love strong full bodi qualiti tea typic drink assam irish breakfast earli grey tea review note price per pound discourag', 'herbal addit blend destroy real tea tast', 'peopl like herbal tast', 'nt', 'high calori', 'instruct say saut veggi first recommend cook chicken first', 'chicken take longer cook raw chicken ontop veggi make slimi mess', 'dont like littl corn', 'ad red pepper flake heat serv ontop rice', 'took one two get use pickl tast', 'candi describ', 'middl almost hard silki smooth fill describ', 'look tast like way past expir date', 'would never reccommend', 'paid good chunk cash noth', 'terribl', 'artifici lemon tast like pledg lemon furnitur polish', 'nt', 'use plain flake salt fresh grate lemon zest', 'tast white cheddar flat bread like regular cracker bad except bought want chees tast', 'huge disappoint', 'mislead packag box', 'photo box bought store make look like full long flatbread expand length width box ', 'wrong', 'plastic tray hold cracker 2 smaller around leav 15 small flatbread', 'also bad compani state use biodegrad ecofriendli packag', 'fail', 'use huge box ridicul small amount cracker', 'ecofriendli', 'would buy', 'feel rip', 'cracker like sesam tarragon give littlemor bang buck flavo', 'somewhat expens food ca nt say terribl pleas load stuff head home', 'never seen ga issu', 'consist foul ga', 'consist', 'continu ga', 'somehow made ga wors think give respons speed chow ca nt blame food gluttoni', 'fart', 'think due high fat content undoubtedli necessari small puppi', 'need diet', 'think advis keep much longer use said 1 year ', 'yeah right tri deal ga long', 'around 6 mo age switch puppychow', 'much bett', 'note list descript confus', 'tea howev noth sort', 'freshli open packag almost characterist tea smell brew tea weak flat tasteless', 'somehow seem product anymor', 'get lot tea money qualiti might well drink lipton bag much wors', 'outfit assembl sampler bore choos much narrow rang', 'want great packag forget ship fast kup toss loos box', 'littl pricey hand pick good flavor', 'everi often eat usual need mix someth els', 'think tast fine nt hit', 'littl guy love almost happi babi product revolt', 'want omega 3 daughter would nt eat', 'realli smell look like cat food', 'one instanc diarrhea eat lunch sinc happen 100 sure salmon packag definit keep eye', 'might one bad packag stack', 'still probabl advis serv go away home ', 'howev consist much differ much thicker chicken pouch smell', 'remind much much cat food', 'nt think buy flavor', 'tri organ babi food late love unfortun hate hate hate food', 'never reaction food actual cri scream first tast', 'guess', 'given food happi babi love one eat', 'bad bought huge packag', 'dismay smell like cat food gritti', 'expect morsel food mush', 'son took bite refus eat', 'first food 11 month old ever spit back', 'luck', 'bad purchas lot 16', 'lot leftov salmon', 'arriv mail right away 3 year old big fan', 'easi suck straight pouch', 'abl cut small spot corner make work put bowl use spoon made loos much thrill', 'okay smell kind like cat food', '11 month old daughter took one bite liter spit', 'tast lack flavor', 'fruit veggi combin great offer miss mark complet', 'nt see good qualiti salmon lentil', 'mostli potato pollack substitut cheap fish realli terribl organ babi food ugh cat feed', 'smell like cat food fish', 'textur like can cat food', 'two box ca nt use daughter gag soon bring spoon mouth', 'nt blame gag soon tear packag open', 'even close', 'got differ flavor happybabi food one particular caus daughter gag vomit', 'whatev reason eat flavor come right back', 'third tri give conclud someth wrong item', 'even disappoint option return amazon', 'pleas send salmon babi eat pleas send chicken happybabi organ babi food', 'son would nt eat either', 'would eat also', 'tasteless unappet textur flavor', 'mean even cook', 'wonder babi toddler hate', 'would never knowingli feed child raw meat', 'lo love tast chick chick like wellround other absolut hate packag', 'littl one decid nt want finish packag three bite rest total wast', 'unfortun recip appar updat though reflect amazon page 2242012 includ total differ ingredi except chicken ', 'daughter absolut refus eat product', 'consist flavor seem drastic chang wors', 'neg twice price gerber fruit meat', 'budget may bit stretch', 'well taken time research nutrit info purchas item actual contain less', 'make nutrient poor food', 'happybabi pretti despic compani', 'chang formula', 'like gobbl gobbl wont take', 'wrote happybabi tell disappoint', 'new stuff resembl textur gobbl gobbl food son absolut hate', 'sure stuff great nt sure kid like nt spend money 16 front', 'awar ca nt return item', 'gave flavor 6 month old son like tri blend still luck', 'howev one make throw everi time', 'allerg anyth ingredi guess high tomato content acid tummi', 'packag well conveni open pour nt matter easi healthi ca nt get babi eat', 'extrem blah bland mush', 'certainli expect much better brand', 'addit sinc stage 3 food expect piec meat veget howev bunch lightish brown mush babi wont eat even tri forc', 'definit would nt recommend anyon despit health rate', 'tast bad', 'nutrit valu lower', 'nt like neither', 'total piss', 'happybabi need realiz steadi custom base chang recip product', 'tri give 3 time refus eat', 'cancel subscrib save subscript product', 'first say product tast like sweet potato chicken', 'white lumpi stuff packag tast like brown rice pasta chicken', 'chicken cuz ca nt tast', 'although skeptic chicken part trust label say heavi amount protein', 'way much spice', 'unfortun happi babi go ruin good thing reformul product', 'new chick chick recip consist organ chicken veget quinoa babi complet despis', 'offer sever time time make face spit turn away spoon', 'ca nt life figur happi babi would chang formul chick chick babi food perfectli fine delici way', 'definit wo nt buy product unless happi babi goe back old formul', 'grade ', 'use hearti great meal twin girl love sinc 9 month old recent chang recip wateri disgust', 'disappoint', 'seem amazon allow complain directli happi babi return product even though chang', 'seem unfair', 'son retch upon first bite new meal', 'guess cut corner somehow ie cheaper ingredi ', 'shame', 'case new recip wo nt eaten', '10 month old babi hate stuff', 'tri give 4 separ occasionsbut everytim tast make disgust look wo nt eat anymor', 'even tri mix favorit food take one bite loos appetit wo nt eat anymor anyth rest night', 'look smell great son nt realli like', 'textur much lumpier product', 'requir lot chew seem bit dri', 'smell delici unfortun 11 month old problem amaranth', 'reason problem amaranth mayb graini', 'sure decid mess good thing', 'cancel subscript chick chick salmon happybabi pouch', 'huge disappoint famili two go meal household 14 month old', 'pleas bring back old formula happybabi', 'wrong tast bad', 'daughter wo nt eat even starv', 'actual nt want eat anyth hour tri first time', 'nt like either', 'gobbl gobbl weird', 'daughter nt mind tast could get textur', 'look like giant blob wet dog food', 'puttylik flavor', 'gross think', 'thick daughter grab mouth put bite usual lead big mess', 'modifi textur ad water make conveni food item go', 'sinc pouch nt reseal even harder travel', 'tri sprout pouch meal nt realli like bit wari', 'new recip horribl', 'wateri almost like stage 1 meal went 4g protein 1g', 'definit worth purchas', 'use huge fan', 'realli liquidi', 'imposs unskilledcareless selffeed much left spoon time get mouth may okay younger babi nt selffeed yet though ', 'also 1g protein sure less salmon', 'anyway menu disappoint lost health conveni option', 'disappoint discov happybabi chang super salmon', 'new version also sugar sodium previou version complet differ tast textur wo nt touch', 'buy', 'tast littl bland also babi', 'find one pouch leak seam', 'happi babi beef stew much beef stew', 'second ingredi behind water tomato evid tast product', 'nt seem even trace tast beef', 'high tomato content stew acid', 'bit disappoint product', 'chick chick runni', 'babi like kind', 'like either tast sour', 'tast tomato strong', 'tomato lycopen antioxid good health son wo nt eat', 'one need season eat either', 'littl one love pouch one would', 'mayb like green pepper either', 'disappoint look good pictur sound nice healthi babi love product', 'suggest tri one pouch see like purchas sever', 'love nutrit littl strong 7 month old start solid 6 month', 'exclus bf first coupl bit gag quit bit simpli stuck littl 10 food process walmart ad 14 banana', 'wish bought singl packet commit case', 'babi made horribl face gave', 'husband tri unpleas strong tast', 'open differ packet see mayb one bad', 'sure rest case', 'worst would say amaranth ratatouil', '10month old hate', 'even mix earth best veggi love spit', 'tri salmon ratatouil hate', 'would alway screw somehow', 'smell aw', 'babi nt like one ca nt blame', 'thought would differ ', 'babi nt like good', 'sure go 15 pack', 'call sad babi aw', 'babi absolut hate', 'tast tini bit bland point gag', 'besid assum wrongli obvious stage 3 food babi 7 month would chunk real food', 'unfortun glop unfortun incred tasteless glop', 'tri flavor brand disgust babi wont eat flavor', 'love happi babi product cereal puff yogurt melt babi food except gobbl gobbl', 'even 3 year old choke', 'realli tick 1 year old choke', 'extrem dri thick lumpi', 'believ happi babi manufactur sell stuff ca nt believ retail stock', 'buy', 'babi nt mind eat flavor day 16 day end 16 day smell like cat food', 'cat run sound open mine learn listen tear pouch', 'get flavor babi hate alway use cat food', 'got sprout product lentil spit lentil', 'kind hit miss textur food rate consist', 'one constant complaint', 'add rice get babi eat', 'babi 9 month old wo nt eat', 'eat way thick', 'got case go make work', 'easi enough fix howev buy premad babi food nt want blend', 'stage 2 food 1', 'expect thick', '8 month old pickey eater refus close thier mouth food', 'would tri babi r us buy bulk', 'sinc last bought product amazon entir recip chang indic amazon descript', 'almost carrot someth boy eat constantli quinoa', 'eggplant', 'red pepper one last ingredi', 'amaranth name went ingredi number two end ingredi list spice', 'nearli tasti opinion eith', 'look tast lot like super salmon', 'honest entir differ product', 'boy still eat disappoint might buy', 'son love happi babi meal tri except one', 'liter gag', 'clearli fan care child nt tri pepper yet', 'may like one', 'unfortun chang recip babi', 'loooooov great trainer food thicker runi like chick chick one stop buy', 'one tast new formula babi turn nose nt want anymor', 'presist eventu way eat bread dip veggi stix dip sneak spoonful', 'runni babi boy older still want make sure get salmon atleast week', 'go hunt origin forumla stock whenev see', 'much chunkier expect', 'babi still ca nt handl lumpi food would nt eat first', 'big fan product sinc babi food contain salmon ingredi chang', 'decreas protein content 4g old 1g new make wonder much salmon actual pouch', 'even tell smell new version nt smell like fish littl salmon', 'also new version ad appl increas sugar content 0g old 3g new happi', 'son still love pouch purchas product nutriti reason disappoint chang', 'like happi babi food except mama grain', 'yuck', 'bought multipack tri forc son eat one', 'realli ca nt blame dislik tast happi babi meal one make gag bummer sinc pouch meal seem appropri breakfast', 'would recommend avoid mama grain', 'son eat', 'disappoint', 'babi hate first readi move past stage 2 food', 'textur differ quinoa', 'also nt like pure chunk', 'usual good luck happi babi product one except', 'smell banana bean quinoa mix put smell ever experienc nt', 'product', 'almost mix ferment packag offgass moment releas content', 'kid eat anyth one stop feed uneasi', 'peeler often cut waffl like piec instead individu strand', 'work eggplant', 'kind wish gone one multi blade peeler littl cheeper ofern find multi use item tend break often', 'unfortun two swipe zucchini grater broke', 'review good will tri howev think look around elsewher first', 'local vietnames market tulsa ok contain cost 1', 'end world glass bottl would prefer', 'recip contain bit confus follow best could found pretti hard mess anyway', 'price high look around', 'one thing notic follow direct contain would littl bit salti tast ad water say sugar end', 'consist runnier regular ketchup', 'wish bottl larger though', 'europ aswel happi find product bad seem stock', 'neg think would price', 'price ship would 7 time bottl bought back home', 'disapoint product littl tast certainli curri', 'better money ahead regula ketchup', 'wast money', 'howev next order sam club 54 count box 38', 'first ye expens', 'nt seem tast instor brew', 'coffe kcup make good great', 'even brew 6oz size littl weak far weaker normal blend made starbuck', 'nt simpli make bold kcup coffe ground ca nt say would help', 'like stronger style coffe starbuck known bit disappoint', 'nt plan buy', 'tast plenti better kcup less money', 'worth extra cost littl weak side', 'starbuck claim medium roast', 'take grain salt', 'fantast aroma bitter tast also bit aftertast', 'first time starbuck want throw', 'honest nasti price starbuck coffe coffe shop refus give', 'sinc get expens go 2 cup day decid purchas 1lb bag use ekobrew cup refil cup keurig kcup brewer make cost effect', 'surpris 54 cup arriv roll around loos cardboard box', 'guess expect regular starbuck packag would littl easier storag', 'disappoint purchas', 'kcup came plain box cup dump', 'look smash old', 'expir date way tell old thing', 'look old', 'also bewar return polici return avail mention item', '40 drain trash', 'never buy coffe amazon', 'bold still prefer starbuck flavor one', 'tast complet differ similar newman extra bold', 'buy pike place k cup', 'sam club box 40 06', 'coffe kcup make good great', 'even brew 6oz size littl weak far weaker normal blend made starbuck', 'nt simpli make bold kcup coffe ground ca nt say would help', 'like stronger style coffe starbuck known bit disappoint', 'nt plan buy', 'tast plenti better kcup less money', 'worth extra cost littl weak side', 'pick place roast great prefer breakfast blend', 'nt understand peopl happi price', 'pleas check store onlin shop easili find much cheaper price', 'even 10 dollar differ compar sam clu', 'nt great', 'actual like french roast dark roast bett', 'bland us', 'realli like pike place coffe continu buy unless becom competit price', 'anyon membership sam club type sb coffe count box 38', '00 per kcup discount', 'starbuck came late kcup parti look like arriv way dress well', 'nt wast money', 'friend pick tri nt bad certainli nt worth twice price equal good coffe produc sever kcup brand', 'sure happen box 54 kcup 52 cup', 'packag insid box hold kcup place protect lay box loos', 'cup box also damag probabl due lack packag box', 'qualiti anyon would expect compani keurig starbuck', 'suspect box open previous', 'know happen seller end sent origin new packag keurig kcup', 'cup seem authent hard tell sinc packag par even though box seal look like box open previous', '2011 starbuck broke away tassimo bosch contractu disput complet disappoint wonder option go avail meantim purchas warehous suppli starbuck coffe cappuccino start research new coffe machin ', 'fair could technic problem bar code set kcup', 'return back month march piss find brand new keurig total inoper', 'despit everyth recommend forum nt go keurig forum worthless', 'good tassimo 2 step starbuck coffe hous', 'often found keurig brew tad wateri rich flavor', 'name ', 'medium roast ground coffe call medium think mild', 'smooth balanc disagre balanc', 'one thing note sea salt moist nt work well grinder shake', 'salt wet dont like', 'drip anyth moist clump', 'dampwet buy', 'year ago start tradit 2 grandchildren found cost clove local store realli bite retir fund', 'pleas send right order request full clove sent powder', 'ask never got answer question', 'littl thick chewi', 'son becam peanut allerg switch sinc could get verif kettl valley fruit bar safe eat', 'howev found cracker littl bit bland', 'nt bad flavor nt pop way like', 'pouch open reseal', 'bit bum salmon contain soy fill', 'thyroid problem soy bad combo', 'wrong', 'well ', 'salmon bland bare pink tasti', 'also shred pack water make mushi', 'salmon packet contain skin plu contain small bonecartilag fragment piec', 'rather go hungri', 'base anoth recent review dog wo nt eat either', 'certainli nt recommend household children given bone cartilag packag', 'one star content', 'nt think salmon would remain salmon plastic pack', 'horribl idea', 'would rather go fish market get real stuff', 'nt care anyon say', 'compani also sell roast piquillo pepper tast quit tasti grill', 'matter get littl pricey someon grew care pepper grill jare label ship', 'whenev see red pepper know whoever grew took care much longer get red stage rather pick green', 'puzzl one neg review verbatim repeat critic review submit month earlier writer differ product roast piquillo', 'tast crappi like origin version', 'microwav piec candi 7 second could actual eat item', 'disappoint price 15 bag', 'know expens tea still ridicul', 'bummer kind expens wish could buy bigger bag think worth price', 'break 12 13 sinc frenchi small hard nt tempt eat', 'downfal littl pricey well worth', 'patti form like york peppermint patti candi quit thick', 'good price crispi textur artifici vanilla flavor overpow', 'better brand type cooki avail', 'live small coastal town greeni expens', 'tri alway look free ship nt get time sure watch next time', 'recommend', 'rebiana intens sweet impract packag pure form individu packet', 'volum would small consum would wonder anyth realli', 'alway felt truvia expens ', 'person believ phrase get pay sinc sometim consum pay market expens product', 'great call stevia raw formerli work food chemic sale know dextros glucos', 'fast', 'kept make coffe hate tast', 'bitter', 'still sweet', 'use 34 stevia raw packet equal tast one truvia packet next noth insid packet', 'suspect', 'gave packet less insid one', 'wast paper time open packet packet one cup joe', 'quit frankli nt like decept market go everi 1', '5 calori add', 'pizzl twist short size', 'seem like bargain price nt even though ship free', 'piec seller 2 inch shorter usual suppli', 'bought sever vital can dog food product found good qualiti', 'product look like stew process meat smell better', 'labrador finicki appreci product better', 'cut tini squar liber coat powder sugar', 'tini mouth heaven', 'chewi flavor', 'highli recommend yummi treat', 'familiar stori cs lewi lion witch wardrob treat seduc edmund sell brother sister witch', 'got addit root beer extract order good made cherri soda', 'great taffi great price', 'wide assort yummi taffi', 'deliveri quick', 'taffi lover deal', 'taffi enjoy mani flavor watermelon root beer melon peppermint grape etc', 'would recommend brand taffi delight treat', 'saltwat taffi great flavor soft chewi', 'candi individu wrap well', 'none candi stuck togeth happen expens version fraling', 'would highli recommend candi', 'serv beachthem parti everyon love', 'taffi good', 'soft chewi', 'flavor amaz', 'would definit recommend buy', 'satisfi', 'love', 'healthi dog food', 'good digest', 'also good small puppi', 'nt know cactu tequila uniqu combin ingredi flavour hot sauc make one kind', 'pick bottl trip brought back home us total blown away', 'magic internet case sauc ecstat', 'love hot sauc', 'mean realli love hot sauc nt want sauc tastelessli burn throat grab bottl tequila picant gourmet de inclan', 'realiz tast never want use sauc', 'thank person incred servic', 'realli go food', 'chubbi boy lose ounc week', 'cat happili eat felida platinum two year', 'good flavor', 'came secur pack', 'fresh delici', 'love twizzler', 'strawberri twizzler guilti pleasur yummi', 'daughter love twizzler shipment six pound realli hit spot', 'exactli would expect', 'love eat good watch tv look movi', 'sweet', 'satisfi twizzler purchas', 'share other enjoy', 'definit order', 'twizzler strawberri childhood favorit candi made lancast pennsylvania candi inc', 'thank', 'candi deliv fast purchas reason price', 'home bound unabl get store perfect', 'husband twizzler addict', 'bought mani time amazon govern employe live oversea ca nt get countri assign', 'alway fresh tasti pack well arriv time manner', 'love appar staff like also', 'gener amount twizzler 16ounc bag well worth price', 'rememb buy candi kid qualiti nt drop year', 'still superb product wo nt disappoint', 'love candi', 'weight watcher cut back still crave', 'live us 7 yr miss twizzler', 'go back visit someon visit alway stock', 'say yum', 'sell mexico faith buyer often abl buy right', 'product receiv advertis', 'glad amazon carri batteri', 'hard time find elsewher uniqu size', 'great deal price', 'got mum diabet need watch sugar intak father simpli choos limit unnecessari sugar intak one sweet tooth love toffe would never guess sugarfre great eat pretti much guilt free', 'impress order w dark chocol take offic eat instead snack sugari sweet', 'excel', 'coffe shop better one like product usual noncoffe drinker ', 'littl dolch guesto machin super easi use prepar realli good coffeelattecappuccinoetc less minut water heat ', 'would recommend dolc gusto anyon', 'good price iam get one', 'offer great price great tast thank amazon sell product', 'mccann instant oatmeal great must oatmeal scrape togeth two three minut prepar', 'still mccann good get instant oatmeal', 'even better organ allnatur brand tri', 'varieti mccann varieti pack tast good', 'prepar microwav ad boil water conveni extrem time issu', 'mccann use actual cane sugar instead high fructos corn syrup help decid buy product', 'real sugar tast better harm stuff', 'good instant oatmeal best oatmeal brand', 'use cane sugar instead high fructous corn syrup better sweet doctor say form sugar better', 'great cold morn nt time make mccann steel cut oat', 'appl cinnamon best mapl brown sugar regular good', 'plu nt requir doctor actual tell three flavor apart', 'mccann instant oatmeal hold textur excel flavor good time', 'best instant brand ever eaten close second noninst varieti', 'fan mccann steelcut oat thought give instant varieti tri', 'found hardi meal sweet great folk like postbariatr surgeri need food palat easili digest fiber wo nt make bloat', 'us celiac diseas product lifesav could better get almost half price groceri health food store', 'love mccann instant oatmeal flavor', 'expens kroger store brand oatmeal mayb littl tastier better textur someth', 'mmm conveni', 'found tasteful made water powder milk', 'goe good oj coffe slice toast readi take world day least', 'order wife reccomend daughter', 'almost everi morn like flavor', 'happi happi', 'varieti pack tast great', 'everi morn', '30 cent per meal nt understand everyon earth nt buy stuff', 'mapl brown sugar terrif follow appl cinnamon follow regular', 'nt get tire ole thing tast great', 'tast realli good take minut prepar', 'sure everyon earth nt', 'conveni healthi quick excel qualiti extrem cheap', 'mccann make oatmeal everi oatmeal connoisseur whether one like raw pellet state cook half hour sloth addl instant done microwav three minut', 'good sure beauti instant varieti avail differ flavor well regular', 'varieti pack allow differ tast explor well give chanc experi differ mccann wellknown oatmeal', 'person like mccann cook thicker bodi top brand america', 'good whole famili oatmealeat singl person alon well love oatmeal', 'mccann oatmeal everi morn order amazon abl save almost 3 per box', 'great product', 'tast great healthi', 'mccann oatmeal good qualiti choic', 'favorit appl cinnamon find none overli sugari', 'good hot breakfast 2 minut excel', 'realli like mccann steel cut oat find nt cook often', 'tast much better groceri store brand conveni', 'anyth keep eat oatmeal regularli good thing', 'good oatmeal', 'like appl cinnamon best', 'flavor good', 'realli like mapl brown sugar flavor', 'regular fine brown sugar ad', 'quick easi satisfi breakfast order brand varieti', 'quaker oat way go', 'lol tri share 2 buddi love', 'im buy notic review yet ', 'hot burn mouth forev hot nice temp', 'perfect us', 'go nut asskickin peanut', 'share peanut deliber probabl give greg jaw harp christma', 'bean coffe bean direct green mexican altura seem wellsuit method', 'first second crack distinct roast bean medium slightli dark great result everi time', 'aroma strong persist', 'tast smooth velveti yet live', 'smell wonder roast bean tast delici', 'importantli coffe smooth bitter aftertast', 'numer occas send roast bean home friend like much', 'deal awesom', 'arriv halloween indic enough satisfi trick treater', 'love qualiti product much less expens local store candi', 'great varieti everyth famili love', 'famili six goe fast', 'perfect varieti', 'great product nice combin chocol perfect size', 'bag plenti ship promptli', 'kid neighborhood like candi', 'halloween sent bag daughter class share', 'chocol fresh enjoy mani', 'long desert ride dirt bike alway found camelbak water heavili lace endurolyt powder overli tasti quit effect never got cramp sever hundr mile ride', 'great product', 'firstli hammer endurolyt product great endur athlet world use product', 'second conveni handli tablet dissovl fizz', 'third tast great', 'imagin get nice cool drink bodi starv hydrat electrolyt rather get salti tast get refresh lemonlim mango', 'camelbak alway get fizz', 'also drop tablet bottl water whenev exercis nice flavor water chock full electrolyt', 'recommend product hammer product highli enough', 'product serv well sourc electrolyt long run bike ride', 'tri flavor realli like grapefruit flavo', 'aftertast actual like slight carbon', 'use hammer product realli like whole product line', 'stuff realli work prevent cramp middl latter stage ride', 'pop 1 water bottl set', 'flavor fine goe easi', 'us low carb diet littl tablet thing', 'voila', 'problem solv', 'share two friend particular whose problem leg cramp resolv use', 'guy got right superbl formul simpli work', 'nt get wrong qualiti babi good complaint', 'sooooo delisci bad ate em fast gain 2 pd', 'albanes gummi bear ring good tasti high qualiti', 'bear even littl face', '5 5 pound bag scream deal far concern', 'probabl 50 pound deep friggin thing', 'consum', 'grape gummi bear hard find area', 'love grape flavor candysoda pretti good', 'anoth compani make grape gummi bear littl bit better opinion well worth price', 'like use gummi bear home made popsicl flavor sport drink', 'salt sport drink make softer popsicl gummi bear awesom frozen', 'delici', 'arriv fresh intact', 'good size', 'pastri lover best ever tast', 'pastri soft jam realli good tast great', 'gone time', 'guest realli impress', 'look like perfect snack trail mix', 'tast realli good', 'order cold weather buy enough last', 'may order wint', 'order cold weather enjoy flavo', 'know make tea good', 'grant south know never enjoy tea sweet without sweet', 'tast crisp', 'peppermint stick delici fun eat', '30 love', 'great gift age', 'purchas giant cane recipi love much kept would eat', 'know product titl say molecular gastronomi nt let scare', 'look food scienc someth earth', 'use make coffe cream', 'stuff tast way better storebought creamer fun experi come flavor', 'also would make great housewarminghost ess gift', 'sure molecular peopl abl tell sure experi cook main reason bought make creamer work great', 'duck sweet potato cut itch significantli tri lamb rice start itch', 'like natur balanc qualiti ingredi', 'awesom dog food', 'glad natur balanc choic', 'three dog love food', 'bought specif one dog food allergi work great hot spot tummi problem', 'love ship right door free ship', 'final found dog food done well', 'still environment trigger happi final eat someth know wo nt caus pain', 'realli help symptom like', 'alway buy amazon', '10 cheaper free ship', 'natur balanc dri dog food lamb meal brown rice recip wonder jack russel', 'aw food allergi food last hope last food could find nt someth allerg', 'seem like bett', 'start feed dog bichon love', 'want dog eat better food ', 'see differ pet', 'great food', 'love idea one food age breed', 'ãžt real conveni well realli good product', '3 dog eat less almost ga poop regular perfect consist els mom ask fo', 'standard poodl pomeranian wonder food', 'switch differ food due price coupl time end go right back natur balanc', 'great dog food dog sever allergi brand one feed', 'food great age dog', 'food good especi amazon prime ship ', 'experi variou type food found love natur balanc', 'realli like natur balanc fact multipl flavor dri wet varieti', 'mix dri food littl wet food golden love', 'addit start purchas amazon petco nt wet food box coupl can', 'came home surpris realiz could save 20 time bought dog food buy amazon', 'definit recommend give stamp approv natur balanc dog food', 'never eaten dog seem love', 'deliv doo', 'price slightli less', 'pleas natur balanc dog food', 'sinc switch nt issu', 'also help differ kibbl size largersmal size dog', '112 year old basenjijack russel mix love dog food', 'notic healthier energet sinc switch standard dog food earlier yea', 'despit higher cost natur dog food find eat significantli less natur balanc dog food still stay happi full', 'normal dog food eat 3 cup dog food day recommend serv size wherea eat 1 cup 112 cup natur balanc dog food day', 'take account actual get bang buck natur dog food sinc nt buy much last long normal dog food', 'healthier happier dog boot', 'add fact get free 2day ship amazon prime', 'sold', 'food work wonder reduc allergi dog love food', 'messag ramsey frankenstein approv', 'second one tri work ever sinc', 'dog need limit diet sensit addit protein commonli found commerci dog food like chicken beef ', 'like appl product must item', 'howev compani help issu full refund', 'crust tart perfect', 'kid think great mayb', 'absolut scrumptuou', 'nice altern appl pie', 'love fact slice dice', 'easi prepar', 'also love fact make fresh whenev need', 'like creme brule', 'love easi', 'look amaz tast great', 'order', 'first bought pickl asparagu amish market love first bite', 'henc saw discount rack local safeway clean', 'even better one amish market', 'fantast jar bonu clove garlic bottom', 'go order six pack household one', 'wont go wast', 'oh good friend introduc exact brand could nt believ great stuff tast', 'love much bought six pack', 'gon na need', 'discov tillen farm pickl crispi asparagu', 'tillen farm brand realli realli good', 'best recal', 'excel flavor big clove garlic bottom jar look forward eat', 'ca nt believ good asparagu tast right front say 60 calori per jar', 'idea good diet food', 'glad buy amazon', 'wonder tast', 'found green tea good tast also health benefit', 'green tea one drink actual make healthier coff drink healthier drink qualiti cold wate', 'opinion price royal king 100 natur organ green tea one best tast tea', 'green tea beauti golden color tast bright fresh', 'recommend ad tini amount', 'organ bee farm raw honey tea add sweet health benefit', 'one best tea ever tast', 'clean bright fresh', 'great deliveri', 'tri', 'love love green tea', 'hard find area place internet charg big price usual nt get mani box merchant', 'definit order seller', 'love tea', 'help curb eat day', 'mom given friend tri', 'could nt find anywher bay area great', 'good brought back two bag recent trip itali', 'great see may found amazon', 'note great open bag smell content pour glass milk dip macin milk', 'great routin treat kid', 'would usual refus diet chang actual like', 'still consum mani calori fatti least know eat good food', 'cours know product seem cost felin food market ca nt see feed anim lousi altern market healthi', 'upgrad star 4 5 realli good food two', 'femal cat 4 year old coupl month healthi', 'tini happi agil', 'tri chicken version holist select garfield seemd miss sardin version went back one', 'found pet store million choic sure brand good one went tri first great purchas', 'cat past 8 month activ kitten coat becam sooo soft', 'mainli love tast even', 'highli recommend brand friend famili anim', 'done lot research find best food cat excel food', 'put probiot kibbl last step import', 'best thing cat love immedi stop mix old food would eat holist select', 'cat food recommend vet 13 year old cleo cat troubl keep food loos weight', 'stop problem', 'nt eat much sinc seem satisfi eat help justifi ad price', 'aid digest sinc', 'smell gone ya know mean', 'add anyon experienc problem cat see lot benifit cat food', 'combin seem keep uti control', 'cat seem enjoy food well', 'expens seem best solut', 'good qualiti dri food eat well innova', 'offer sever sampl local holist pet store holist select one usual well innova would eat', 'finicki cat recommend tri holist select', 'good qualiti food palat finicki eater', 'holist vet recommend along brand', 'tri cat prefer especi sardin version ', 'best part coat soft clean eye clea', 'nt want rude say delic wast far less odor cat eat mcdonald junk found store definit plu', 'health benefit obviou highli recommend holist select', 'formula one eat much better ingredi prescript diet avail vet', 'kitti activ soft shini fur neither fat', 'dri food reduc tartar buildup teeth also', 'cat thrive extrem well dri cat food', 'definit much less hair ball throw up fur great', 'fit weight', 'vendor ship extrem fast', 'one top amazon supplier book', 'enjoy spice love ramen love product', 'eat ramen noodl sinc littl kid never found better flavor hot spici chicken', 'nt hot chilihead like sure good', 'alway fan ramen quick easi meal find amazon decent price deliv door case amaz situat anyon find', 'realli love spici flavor', 'found like broth noodl usual opposit', 'got sale roughli 25 cent per cup half price local groceri store plu rare stock spici flavor', 'thing great snack offic time constantli crunch sometim ca nt escap real meal', 'one favorit flavor instant lunch back buy everi time goe sale', 'bought allot differ flavor happen one favorit get soon', 'love flavor ramen', 'best invest ever made ging', 'worth 40 5lb', 'get soon use topper ginger cupcak cooki ', 'delici', 'compar favor australian ginger purchas citi', 'enjoy without travel', 'ginger soooo worth money', 'tender moist never let', 'son acid reflux sinc birth everi medic avail improv older gentleman came work place told product automat order', 'realli expect better result 1000 thing tri', 'heartburn symptom sinc day 2 start eat one piec ginger morn', 'eat anyth actual enjoy', 'product god send', 'thank', 'bite size easier peopl grab coupl piec rather entir licoric stick', 'twizzler brand licoric much better well known brand', '50 packag free sh good deal', 'love', 'tasti', 'infact think addict', 'buy pack 6 bag reason go target get bag', 'save 1', 'use subscrib save sever product', 'love subscrib save', 'look less messi version licoric children sure tri', 'soft easi chew nt get hand sticki gross car summer beach etc', 'love flavo sometim mix chocol nice snack', 'great item great price highli recommend', 'one best tast salsa ever', 'daughter love', 'nt like super chunki salsa berri mango nice smooth textur small mango piec', 'salsa sweet sweet enough although mild nice littl kick', 'price steal', 'one best salsa found long time stay away varieti pack', 'finac realli love three star come', 'best cornmeal', 'made regular cornbread hot water cornbread meal outstand', 'also fri oyster meal gave great textur flovo', 'fabul marinad', 'love use chicken either bake oven grill', 'enough flavor flair even use dinner parti receiv rave review guest', 'definit worth price', 'super cheap super easi', 'love', 'work chicken fish beef pork', 'fast easi make tast excel', 'plu buy bulk 50 box store', 'actual tast pretti good', 'singl sell 2', '50 3', '36 store 1 box 24 singl', 'awesom', 'yummi flavor got healthi altern dessert normal eat glad mani thing jello dessert still tast good good', 'definitent purchas product flavor wonder', 'jello wonder', 'jello tast like watermelon jam recip made take like watermelon jam', 'great made regular jello', 'yummi', 'deal healthiest salt use', 'box last famili year problem', 'iodiz sea salt rais blood pressur regular salt', 'perfect size sea salt tabl picnic basket', 'love', 'shake well clump flow freeli', 'span class tini length 026 min span expir date 21 month day bought product', 'tuna tomato combin delici', 'one mani item reorder amazon everi month', 'realli surpris thought bit better brand less season', 'best tast tuna pack make opinion make great go snack realli satisfi tomato', 'still great option low calori low fat meal', 'found much tastier plain tuna pouch', 'excel qualiti need dress ', 'put micro 20 power 1 minut shazam', 'believ littl heat bring flavo', 'much better tast product 100 calori better special k bar cooki snack pack', 'dark syrupi sour littl sweet', 'dab forget dessert', 'realli uniqu flavor pleas metal underton', 'yum', 'wonder wonder stuff', 'tri return vendo', 'work perfect 25 small bag candi', 'purchas 5 ', 'love stuff milk', 'much smoother tastier instant coffe milk', 'french live us bring back box ricor everi opportun', 'savora anoth hidden gem bringback', 'check', 'first drink mother brought back visit home brittani franc thought delici', 'could nt wait tri 8 8243 cinnamon coffe cake made fresh egg creami sour cream madagascar bourbon vanilla top fill cinnamon streusel', '8 8243 cinnamon coffe cake avail onlin 18', 'fair share cinnamon coffe cake let tell fantasicak cinnamon coffe cake realli take cake size price qualiti tast', 'cake arriv fast care packag arriv almost perfect condit', 'also come larg tub white ice drizzl top serv', 'could nt believ larg size actual fed famili 5 us enjoy breakfast three day', 'cake thick almost solid spong cake type consist realli moist fill', 'flavor die sticki cinnamon outsid sweet cinnamon vanilla swirl throughout insid cake', 'ice realli top beauti give moist sticki sweet flavo', 'pair cake morn coffe got perfect breakfast treat', 'use love grow stop drink water lemon juic brand 56 year ago', 'stuff use strong use pour mouth get aliv feel go', 'feel like product went chang ad water someth make strong', 'stronger less use well', 'thought would go fast hey lemon stuff love unless goe bad', 'one best lemon juic tri', 'recur custom due high qualiti product', 'continu buy', 'lemon juic must kitchen yearround', 'power flavor nt need much zest dish', 'buy product', 'fast deliveri good product', 'lemon juic concentr find store realli handi around add sauc dress etc', 'pain squeez fresh juic everytim need nevermind lemon hand begin', 'could nt believ told relax beverag', 'love stuff', 'bought groceri outlet seattl tacoma 4', '00 case twelev pay 38', '00 ye 3 dolla', 'great product', 'tast great work exactli describ', 'superb natur sleep aid', 'amaz', 'look natur way help us sleep sinc alway seem overload stress busi schedul', 'ye probabl better serv take yoga class good second choic', 'help fall asleep stay asleep', 'woke refresh sleepydrug hangov huge bonu', 'made chocol chip cooki brm garbanzo bean flour result fantast', 'brown sugar chocol mask bean tast review mention', 'friend could nt discern differ classic ccc', 'textur bodi elast mean reduc tendenc fall apart occur glutenfre flour nice chewi ccc made regular flou', 'ad bonu high protein fiber level calcul 23 g fibercooki fill satisfi smaller serv glycem index significantli low', 'highli recommend flour even ccc thing make', 'great stuff', 'made realli tasti banana bread', 'good qualiti lowest price town', 'troubl find local deliveri fast hunt flour aisl local groceri store', 'make amaz rel healthi fruit tart bake base layer uncook fresh slice fruit pour madeup content one packet', 'harden room temperatur hold fruit togeth slice tart let beauti arrang fruit show', 'person like cheesecak rich fruit glaze cheesecak gorgeou admit', 'cherri strawberri slice mango nice best one ever use thin slice lemon gentli poach sugar syrup layer cake', 'peopl put layer creme patisseri pastri cream like custard stabil flour fruit happen think tast best', 'get bake glaze musthav shelf', 'ingredi vegan tapioca starch carrageenan dextros cream tartar locust bean gum look make vegan tofu cheesecak use top well use fruit tart nut crust base', 'bought coffe much cheaper ganocaf organ reishi mushroom well healthi antioxid', 'nt expect tast good actual', 'day 5 total worth', 'sister take ganocaf introduc less expens similar coffe', 'coffe fine process flavor alright', 'coffe great organ ingredi', 'pesticid worri plu tast good heal effect ganoderma', 'like peopl mention coffe great tast', 'tri differ instant coffe one one better one', 'tast great give energi without jitter', 'love product', 'product fantast crazi packag', 'littl guy tasti refresh', 'eat 2 lunch small find suffici resolv problem', 'sugar free sugar actual help smelli bacteria grow great tasti enough almost think part lunch', 'good bulk valu buy highli recommend mint', 'littl tin sugar free mine mint great deal', 'perfict go', 'fifti mint per tin right amount cari along', 'safer teeth one suga', 'price twelv dollar reson', 'also great share', 'look mint tri one', 'youll glad', 'pro packag ship pricesold year expir date enough eatshar 9 box fresh like regular wintergreen powderi form', 'real mint', 'con none', 'mint realli strong great tast', 'also conveni size carri pocket purs', 'huge suppli', 'still work plenti spare', 'much effect buy one groceri store 711 everi time want mint', 'love use empti contain medicineadvil purs desk suitcas', 'perfect littl size disguis small valuabl travel love mint', 'tini power without burn mouth', 'mother law like walgreen quit carri', 'great could get amazon', 'like said theyr real hit', 'sinc would nt abl keep hand candi dish good altern around nice around garlic lunch', 'gave item 4 star nt tasti sugar version mint sugar free item good full sugar counterpart', 'fact tin wrap plastic seem like wast irrit remov although total get wrap still nt make easi deal ', 'tini altoid great quick breath freshen small box great portabl', 'full compact', 'nt run yet probabl wo nt coupl month ca nt wait buy', 'love wintergreen altoid small much come write review', 'packag small conveni altoid smaller well squar shape blue hue even delici tast opinion', 'definit prefer regulars altoid continu purchas', 'highli recommend', 'fresh scent tast', 'easi eat one tin hour', 'use favor everyon love', 'wintergreen refresh absolut delici', 'pleasanttast littl candi cute conveni tin far goe', 'love purina', 'love nutro', 'love iam', 'love whatev feed', 'problem speak', 'consist litter bearabl nose', 'cat love', 'kibbl size appropri chew', 'kicker feed cat felida demeanor improv', 'coat super soft lush new improv directli attribut food', 'loyal felida consum', 'addit absenc corn product feed seem lessen remov reaction friend catallergi', 'start cat felida platinum 3 week ago love', 'felida ten day old food entir much sweeter happier cat', 'think must agre better easili digest someth', 'case happi purchas felida', 'low ash purina one urinari tract formula entir live thank ut problem', 'howev two much activ tell realli feel better sinc chang food felida', 'even prissi ancient one start play teas dog get chase purina one want sleep', 'think get cat fairli earli weight problem effect', 'howev glucosamin certainli help older fur ball happier life', 'much good thing', 'work kibbl time slowli shift percentag felida nation junkfood brand bowl natur', 'ca nt even rememb first time tast anchovi stuf oliv tri sever brand onlin brand favorit', 'order oliv lot', 'subtl flavor brine go great chees', 'one favorit appet treat guest', 'way approxim price 100 gram', 'gave three star pretti easi make versatil could vari veggi put', 'also use extra virgin oliv oil rather veget oil', 'retail store littl 9 ship onlin merchant think great', 'asid lapsang souchong think great replac rest', 'everyth look strong fullbodi black tea enough charact keep becom bore', 'current favorit afternoon tea', 'search qualiti full bodi tea nt bitter palat price point certainli fit bill', 'hot tea excel form', 'would certainli recommend anyon prefer smooth full bodi qualiti tea nt cost arm leg', 'drink tea plain without sugar milk pleasant aroma', 'price amazon cheaper local groceri store', 'one review right think herbal smell make aroma', 'label imperi blend kind impli', 'exactli black tea drinker tea surpris afford', 'black tea aroma kind remind soft white tea', 'particularli like brand easier come across', 'imperi blend believ complex yet well balanc one tri', 'full bodi like good cup assam mean overpow delight clean tast darjeerl complet long last note bergamot', 'enjoy best even', 'give satisfi relax finish busi day', 'tri liter dozen tea sinc introduc russian custom prepar drink tea ahmad imperi blend probabl favorit due fact equal delici hot ice', 'buy threepack need amazon go rapidli', 'famili love friend home tri one box love', 'excel tea', 'one best ever', 'especi great prepar samova', 'make tasti super easi meal fast', 'came wonder', 'dinner tabl less 30min', 'mixer natur ingredi tasti', 'littl kick', 'enjoy', 'might littl spici stuff rock', 'use 12 and12 v8 milder version best bloodi caesa', 'aim hook keep bottl hand', 'start drink power slim tea hcg diet help curb crave', 'sinc like well tri other hook', 'satisfi drink time', 'energi give extra pickmeup afternoon help keep go day matter long', 'like one particularli subtl citru tast', 'also natur sweet', 'enjoy tri differ kind tea everi day', 'come back one', 'live without citron falksalt wonder watermelon fish almost food requir salt world', 'tri red juici watermelon wonder experi', 'thing huge', 'love way crystal crunch flavor overpow subtl', 'lemoni flavor favorit good almost everyth', 'plenti flavor salt long time buy', 'ultim puppi food', 'kibbl great small breed', 'high digest nutrient oppos filler compani use', 'less wast result high qualiti ingredi', 'highli satisfi eukanuba qualiti result obtain feed food', 'recent purchas wag amazon', 'price best found good ship immedi item stock', 'recommend bought puppi lhasabichon mix lhasapoodl mix continu food sinc wean', 'got first bag stuff purchas amazon', 'great price sinc got 40 lb bag price think 15 lb bag petco', 'mean love food nt get wrong love mix water would like soft food', 'delic green tea smooth light tast subtl floral tone bitter aftertast', '20 year drink ahmad tea even disappoint', 'superb qualiti ahmad tea remain consist throughout year', 'happi find ahmad tea avail thank amazon', 'store carri area quit mile away', 'current deal pack 6 superb much cheaper find local ', 'great tast tea happi recommend', 'fresh great way get littl chocol life without million calori', 'tast like chocol pud', 'like ceylon tea varieti certainli enjoy appreci tea', 'happi find ahmad tea avail thank amazon', 'surpris neg review 2009 20 year drink ahmad tea even disappoint', 'superb qualiti ahmad tea remain consist throughout year', 'current deal pack 4 good cheaper find local ', 'highli recommend', 'enjoy tea year', 'tea good morn afternoon even', 'local store went buisi', 'thank amazon', 'use bodum tea press prepar pot', 'hi black tea everyday', 'done past 25 year habit mine', 'ahmad tea one favorit brand highli recommend like black tea', 'think go remain favorit next 100 year ', 'tri despit review found exactli tea buy either russian italian groceri', 'ahmad tea excel looseleaf tea eith hot make ice tea', 'great flavor linger aftertast', 'love love love deal way fun pick mani', 'tea chocol cider well mani coffe', 'seller nice also answer question via email slightli confus order method easi ', 'tri random sampler pack overload decaf extra bold tea great way get exactli brand style want', 'receiv order coupl day exactli order', 'second order order item', 'good product fast ship equal happi', 'cant find anywher els def worth price', 'use daili basi keep gum healti teeth clean free plack', 'seem high qualiti would provid varieti diet', 'side dog love', 'son love food', 'wo nt eat much pain easi gum', 'organ quick meal', 'buy subscrib save great way give good food still save money', 'love whole line', 'tent first session pretti strong salmon smell seem oppos strong scent sinc eaten packag wo problem finish everi time', 'pretti pleas meal great textur feel good get salmon diet', 'realli like happi babi chick chick pouch thought would great way introduc seafood babi', 'babi food conveni healthi', 'great worri son eat abl grab pinch', 'super picki babi love', 'tast good', 'packag conveni', 'wont eat anyth els alway resort', 'great babi food', 'interest textur babi like mouth love tast', 'love get protein pure thick choke', 'babi love stage 1 happi babi pouch tri high hope well', 'give maker line organ babi food', 'stuff obvious high qualiti', 'surpris littl guy wolf repeatedli', 'happi find organ fish food babi', 'thumb', 'babi love happi babi chick chick meal tri salmon', 'babi like much', 'think salmon delici salmon good food make babi happi', 'saw onlin saw ton protien salmon', 'love plumb brand fruit veggi pouch like suck straight pouch', 'daughter realli like like good overal give seal approv', 'pouch next best homemad', 'nt time steam blend babi food alway reach happi babi', 'purchas two box previous purchas happi babi chick chick daughter love', 'happi babi chick chick actual hearti pure piec chicken pasta', 'bet one would good ever got', 'daughter absolut use love origin version chick chick babi food chicken sweet potato brown rice ', 'day think good', 'littl man like gerber organ fruit', 'easi find inexpens', 'hand happi babi product best qualiti best tast opinion conveni', 'pouch great especi go', 'eat fruit varieti without even put bib', 'chick chick man favorit bib requir ', 'nonetheless keep pouch around travel', 'babi love', 'fussi 9 month old love instantli', 'nt know flavor textur nice small bit gobbl', 'worth price especi subscrib save pleas get high qualiti protein meal nt pure chicken', '12 month old time write great review like flavor textur great pouch open easili', 'nt reseal fine never leftov', 'littl one love line food love conveni', 'travel europ two week pack ton trip', 'surviv sever plane buse boat', 'easi conveni healthi', 'love', 'twin love', 'strong tast especi babi veggi fruit blend', 'mix blend beef stew green bean 15 oz beef stew 35oz green bean babi ate problem', 'son love chick chick super salmon right away think sweet potato carrot use flavor alreadi', 'updat one week later split packet two contain ad 1oz sweet pea 1oz carrot babi ate problem like lot warm', 'week warm packet son ate problem love much chick chick super salmon', 'luck first time give took coupl tri us love', '15mo old daughter realli like happi babi food love gobblegobbl mangospinachpear ', 'daughter absolut love', 'gobbl whole thing minut except teeth time ', 'definit tast meat product', '9monthold absolut ador old recip product organ chicken sweet potato brown rice pasta', 'would gobbl entir pouch everi time offer often ask', 'usual buy sprout thought tri food sinc got great review', 'pleas meal', 'littl less chunki sprout stage 3 meal', 'also chicken sweet potato big hit babi', 'ate', 'organ meal nice altern make food', '18 month old enjoy food much', 'textur fine finish whole packet', 'babi love one', 'love packag jar wash', 'babi boy love eat food better earth best stage 3 food', 'nt tast bad either', 'love sweet potato food', 'pouch great go worri glass food contain break diaper bag especi go hike', 'realli like', 'love sweet potato great', 'tri road', 'final babi food tast fresh', 'love great protein plu good veggi', 'great anyon look way feed babi good stuff ', 'pouch easi conveni', 'tast great perfect busi mom', '12 month old time write great review like flavor textur great pouch open easili', 'nt reseal fine never leftov', 'outstand good reliabl food menu item', 'overli done season', 'thank god', 'sometim simpl realli goe much farther', 'babi love', 'love', 'love', 'keep go babi food co thank bunch', 'like lot want tri someth meat', 'product good review order think ca nt go wrong sweet potato chicken', 'updat month later reintroduc daughter product seem like', 'ate well week travel', 'order anoth one upcom trip', 'first happi babi purchas tri rest amaz', 'love happi babi', 'daughter eat compani product time', 'chick chick great', 'beef stew wonder', 'good thing flavor', 'babi food greatest', 'granddaught love even call name', '15 month old still enjoy peac mind know feed good balanc meal great price', 'still love pouch design part sinc sometim break glass jar brand', 'daughter love food', 'favorit happybabi organ babi food', 'great transit food make home packag product must tast pretti fresh', 'perfect portion simpl use go', 'love conveni product', 'pouch easi conveni', 'tast great perfect busi mom', 'twin girl love', 'perfect', 'pouch easier empti textur great 10 month old', 'girl eat right', 'stuff good serious almost ate', 'nt know peopl say gross bitter', '7 12 month old love', 'realli good eater gener actual make littl mmm eat meal', 'definit warm', 'realli yummi', 'like suggest serv avacado', 'wild salmon 4g protein great ingredi', 'buy organ food chick chick one favorit', 'love long keep stock', 'love happi babyhappi tot brand varieti offer', 'realli nt like tri pure meat pleasantli surpris open packag actual tast great nt lumpi', 'one meat babi food tast love', 'felt like give child complet meal organ', 'love product', 'love product highli recommend', 'daughter love gobbl gobbl', 'one alway moist', 'like better chick chick firmer textur', 'never problem gag choke', 'packet empti still look', 'feel okay one weird preserv identifi ingredi', 'daughter 10 month rel good eater one favorit month', 'simpl combin finish packet time good packag nt reseal ', 'make food like organ pouch easi option travel day want someth quick', 'babi love chicken prefer type food pouch', 'easi heat nice came time manner', 'babi love stuff', 'great textur actual reason tasti', 'like get protein flavor combin nt bore', 'like happi babi product like spinah mango pear blue berri banana beet broccoli pear pea', 'matter mood great meal option fall back alway eat', 'also pouch sturdi make good travelm option', 'littl expens worth everi penni', 'smooth easi feed triplet', 'love', 'like great veget also', 'daughter love finish whole pack 5 minut', 'like becauseit good combin protein fiber carb', 'plu organ', 'second case bought continu buy', 'ship fast pack good', 'wolf like noth', 'applesauc work well also', 'definetli buy', 'conveni packag babi love', 'gobbl right', 'flavour best one happybabi line pouch food', 'chick chick nice subtl flavour nice textur', 'highli recommend', 'keep tri', 'introduc daughter ate problem', 'certainli recommend', 'pleas product', 'stuff strong tast surpris son like would munch hungrili everi time', 'realli like organ brand also minim packag', 'almost 12 month old realli seem enjoy tast consist right', 'twin boy love food', 'best textur happybabi meat tri', 'piec chicken pasta nt big either', 'great babi resist textur much', '10 month old get enough food', 'take go eat alway take 2 pack love much', 'ca nt wait tri flavor', 'son love', 'great take us go compar big bulki heavi bottl ie earth best babi food issu wife reason could never open top', 'also wish sealabl son ate gobb gobbl 95 time nt issu', 'overal pleas wish tri earlier', 'salmon daughter favorit happi babi flavor', 'like feed add fish diet want keep tuna minimum', '12 month old love salmon', 'contain great travel make easi meal', 'first happi babi flavor hit babi', '14 month old love stuff littl chunkier product great introduct solid', 'pouch easi take us babi love', 'leftov', 'realli like come two protein varieti chicken turkey', 'great option easi take', 'guarante food one brand contain potenti allergen', 'also contain higher nutrit valu food sold market', 'amaranth ratatuil chick chick favorit', 'pouch easi conveni', 'tast great perfect busi mom', 'tri flavor first time son 6 month love right away', 'problem textur either', 'one chick chick favorit right', 'price great 1pouch', 'easi take travel sinc heat mix requir', 'probabl keep give past 1st bday', 'kid love stuff', 'still love despit abl eat sort regular food ', 'much better load tortilla chip mexican restaur', 'realli like healthi babi babi food', 'textur particular product pretti good 10 month old', 'disagre tast aw', 'perfect textur', 'happi babi would well consist label', '12 month old time write great review like flavor textur great pouch open easili', '8 month old liter beg everi bite tell digest system take well hearti topofthelin organ ingredi', 'happi babi happi mama', 'twin boy love product gobbl', 'mom love tasti uniqu', 'also use lot veggi boy nt often get diet like pepper eggplant', 'great', 'babi love', 'one favorit food picki littl guy', 'actual tast good buy bulk make way cheap', 'conveni us still give 20 month', '100 happybabi famili love wonder product continu make', 'pure smooth love', 'son eat besid oatmeal', 'textur work alway choke thing chunki', 'mushi textur consist swallow fine', 'go tri happi babi product', 'obvious babi differ tast prefer far critic review assess product howev babi love flavor', 'love black bean quinoa save open whole bean cook whole pot quinoa one serv babi food', 'son tri line food like', 'look forward tri flavor', '17 month old love pouch save 8 month sinc also bought multipack ', 'great nt fall spoon easili', 'sweet mayb strong flavor littl one', 'independ food item either appeal mellow smell', 'unbeat littl tool make shred green papaya salad', 'use shred mani differ notsorip fruit veggi besid papaya', 'better typic chees grater shred nt bruis fruitveggi', 'highli recommend tool', 'one year use sort thing shred carrot cucumb sushi roll spring roll shred veggi garnish add salad shred summer squash use veget noodl soup top sauc', 'even use make shoestr potato fri potato nest ', 'easi use easi clean handl may plastic sturdi plastic handl dishwash fine', 'ad wish list sinc one kid misplac mine feel loss almost daili kitchen', 'best least expens way cut perfectli slice papaya', 'thing easi use job without fuss', 'handl good grip', 'overal like product', 'use sever differ tool shred green papaya papaya salad one fast easi hold stay sharp long', 'miracl knife featur one plain job good enough might abl find local thai asian groceri go', 'ok diehard thai food lover cook definit need tool kitchen arsen', 'must make som tam thai green papaya salad', 'love shredd', 'get go watch youtub video make salad', 'real healthi even make raw vegan version', 'get', 'problem though', 'easi use make cut green papaya extrem easi', 'also work well summer squash cuke', 'friend told wow make job 10x easi', 'love', 'feel like kid new toy', 'bought make papaya salad use carrot squash cucumb beet etc', 'one son want one boston want thing', 'make great stock stuffer christma', 'use make zuchinni noodl', 'work perfectli', 'problem yet', 'bought base papayasalad recip link review obvious great', 'wheat gluten intoler great valu', 'realli come handi visit rel order send groceri', 'make convenit go groceri shop find store gluten wheat free product get', 'make great wheat free rice crisp treat well', 'prime make even nicer save money ship send need go', 'way go amazon', 'keep put glutenwheat free product', 'order morn bike ride group sinc there mess realli help us', 'first order two contain order 12 last us indoor ride come octob wisconsin', 'great coffe mess win win us', 'cool brew possibl make coffe strong like matter much mix cup never tast bitt', 'south use cool brew make realli strong ice coffe everi morn', 'mix either milk soy milk absolut wonder', 'great stuff', 'yellow curri recommend coconut milk base thai version treat seafood chickensometh occas order', 'mae ploy one brand repeatli mention high qualiti fresh tast', 'shelf life 2 year larg plastic pouch also keep well nestl color tub refrigerato', 'flavor lemon grass shallot gingeri galanga kaffir lime peel warm spice red chili well balanc', 'mae ploy curri past without shrimp past make vegansuit well delici shellfish fish fowl', 'mae ploy thai yellow curri also delici bit ad favorit dip salad dress tri teaspoon combin 1 cup sour cream plain yogurt paint favorit fish fillet bake cook 1520 minut 325 ', 'fine qualiti product encourag order anoth flavor curri pastealso excellentand would highli recommend product wish recreat favorit restaur fare reason price without tediou prepar', 'yellow curri past fabul vegetarian wonder', 'wow', 'rich curri past amaz', 'get layer layer complex flavo', 'mae ploy brand great stuff use make curri', 'easi use tast like buy good thai restaur', 'highli recommend yellow curri past', 'delici fast easi', 'love curri past tast good would find authtent thai restaur', 'love curri past use lot base marin grill satay', 'like curri past', 'come plastic tub inner seal bag stay fresh longer open right away', 'flavor multidimension curri past tri', 'heat level right us like heat enough overpow flavor tongu tingl bit go numb ', 'still start chop onion sometim add ginger past yellow curri pretti good right tu', 'quit happi product would order', 'yellow curri past great famili', 'use love yellow favorit', 'easi use keep well fridg', 'easi great curri', 'read recip recommend brand use see recommend specif brand', 'great flavor purchas 3 green red yellow curri past enjoy 3 type', 'love curri made home year', 'typic bought curri bottl groceri store far superio', 'live vermont store sell varieti grate amazon offer product', 'came amaz', 'love ca nt wait make dinn', 'pretti easi right prime ingredi', 'took long time discov mae ploy glad', 'review right', 'good blend flavor contain size last long time', 'also thrown freezer found keep fine freez solid take amount need need', 'far favorit curri past', 'read sever posit review curri past thought worth tri', 'buy', 'delici make easi throw togeth quick dinn', 'spici nice blend complex flavor', 'made first dish chicken chickpea veget last night stuff good restaur town', 'recommend highli', 'delishi littl kick spicey heat', 'recent went thai gourmet restaur everi bit good curri', 'best thai curri ever', 'make make thai curri simpl even someon like make restaur qualiti curri', 'tast like curri get thai restaur', 'good', 'made first time boyfriend ask make three day straight', 'enjoy lot', 'yummi', 'hard time find yellow curri past one work great', 'super easi use alot robust flavo', 'flavor past strong spiceheat', 'nice side effect love', 'pretti fast prepar', 'absolut delici', 'crispi light sweet eleg', 'realli dress ice cream dessert', 'kid love', 'sinc found variou import year happi see amazon', 'everyon ever share love want', 'subtl curri tast creep', 'awesom burger banger sausag even chicken nugget', 'like serv germani currywurst', 'light flavor spici lot good curri flavo', 'use everyth would use regular ketchup fo', 'great condiment share unexpect uniqu yummi', 'glad find best ketchup world avail amazon', 'sinc move us troubl find ketchup similar one', 'enjoy meal hela ketchup', 'ketchup good', 'grew stuff germani eat tradit thing eat ketchup much use mani differ thing', 'thicker regular american ketchup trust tri wont want go back', 'super spici hot amaz mixtur flavor', 'fan curri ketchup one excel choic', 'sweet despit name hot', 'start use want put stuff everyth', 'close real thing curri wurst ', 'goe great steak', 'french fri wonder ever sell order right away', 'recommend product anyon', 'serv fri delici european meal extrem cheap make', 'magic sauc real ', 'flavor epic', 'fantast bean salad sausag egg much much', 'consid absolut essenti condiment kitchen', 'awesom product got quickli stun', 'happi entir experi', 'found anyth come even close delici tast', 'europ buy sever brand alik like hela brand best alway bottl fridg', 'prefer smaller size bottl 400ml fit better fridg doo', 'tri decid whether like', 'sauc goe well fri grill potato also nice bratz grill meat poultri', 'mix mayonais get mayonais kick', 'receiv item gift excit got', 'look exactli pictur food snack provid tast realli good much abl share cowork still snack home', 'realli enjoy receiv gift receiv other compani past alway awesom', 'highli recommend product compani would like send gift famili friend mayb even', 'thank', 'ramen best noodl type food whole world', 'could eat everi day', 'purchas 2 54 count box starbuck pike place roast coffe kcup recent happi qualiti', 'wait starbuck kcup well worth', 'reason pike place put starbuck map nearli 40 year ago', 'perfect medium blend', 'plenti flavor dark coffe drinker enjoy rich burnt light coffe drinker', 'bright bright', 'kcup version justic', 'everyth mention littl cup', 'got home hour ago 3 cup later honestli say prayer answer', '99 review would 5 star', 'good', 'nt expect like coffe sinc medium roast bold roast person', 'howev found flavor strong', 'love tast pike place roast coffe sinc first offer', 'special affin pike place seattl coffe particular tast bring sens place', 'robust flavor cocoa toast nut', 'subtl smooth bodi', 'receiv keurig hope find pike place kcup one first purchas', 'coffe exact flavor delici', 'easi conveni order amazon', 'look forward first cup coffe morn', 'perfect medium roast kcup', 'coffe never tast burnt water', 'tast like would order starbuck', 'coffe good french roast strong', 'continu buy best kcup tast yet', 'elat found starbuck go keurig form let alon flavo', 'one lone except', 'ad 2 packet sugar along half half oh god heaven', 'good actual favorit coffe', 'tast good coffe shop', 'bottom line think like nt like coffe tri cream suga', 'surpris differ tast', 'favorit coffe keurig kcup brew', 'drink everi morn help get start', 'price good', 'love starbuck coffe kind pike place time favorit smooth rich perfect coffe person like drink coffe black', 'good price starbuck k cup', 'instead stock coffe instead week', 'like conveni', 'found amazon warehous sale good price', 'usual servic great product exactli expect', 'bought mom sinc love pike place starbuck enjoy kcup product equal well', 'pike place coffe starbuck store favorit coffe', 'pike place one favorit choic star buck store littl cup keruig good morn noon night', 'wow', 'needless say purchas cours love everi last drop', 'thank starbuck thank amazon packag secur get right time usual', 'coffe bold enough get one start morn', 'two cup robust enough kick start system tast outstand', 'like buy packag keep run', '20 love', 'quick pick offic grind wear', 'small tast seattl everi cup need get one comfi chair offic set', 'serious could go wrong starbuck', 'think pike place roast best travel mug', 'fit kuerig pike place starbuck favorit say happi', 'arriv fast complet good packag', 'husband favorit coffe keurig', 'final month test', 'perfect cup coffe everi time', 'noth bitter cup', 'happi left sever kcup could take', 'sinc sister like pike place roast gave five star', 'love love kcup', 'starbuck junki around 50 cent kcup save ton go local starbuck store buy caramel macchiato make home', 'coffe tast good starbuck kcup rule', 'januari start put keurig thru pace along side tassimo frankli tassimo still superior way brew better flavor faster brew cycl heat h2o optim temperatur keurig btw iswa lot nosier tassimo', 'note continu also use red tassimo unit iswa coffe unit use milk creamer keurig still offer option anywher', 'colombian best lot', 'brew 1 minut less grab cup rush', 'wow', 'fresh tast', 'new secret weapon', 'stuff amaz', 'great salad perfect pasta mani use', 'great product', 'one brittani best', 'delic flavor almost floral nt need lot', 'tast great salad', 'clear healthi winn', 'ye wonder flavor without much salti flavo', 'clean tast', 'use special dish add delect flavor dish', 'also know serv food healthi salt ton miner', 'good brini larg crystal grey sea salt use prefer expens white', 'comgpproductb004vequiw 1 pound french gray sea salt light grey coars bag sel gri de gu eacut rand french sea salt nt know use someth special flavor ad', 'hook', 'wonder sea salt beauti healthi', 'take less season', 'anyon concern abot salt diet love product', 'man salt realli good', 'love flavor much betterwis choic vs regular tabl salt', 'good stuff', 'love salt salad steak trust', 'love', 'hand could tast differ could tast much better french gray', 'still like', 'worth everi dollar', 'love salt', 'realli nice flavor salti miner tast good', 'french gray sea salt delici flavor gentil regular salt slightli tangi tast hint miner', 'price may seem high compar tabl salt amazon price low compar place bought', 'definit worth opinion', 'great product', 'great scatter veggi well cook meal', 'highli recommend', 'nice flavor quit salti', 'yeah know salt salt like tast salt', 'nt costli mani gourmet salt use make season salt gift', 'howev smell great nearli intact', 'great qualiti', 'buy', 'clove arriv quickli high qualiti', 'frontier qualiti superior price much lower', 'definit purchas frontier need spice', 'comfort know ad toxin kind', 'wonder go organ', 'eureka discov bulk clove item amazon', 'made 72 year old grandfath happi', 'grand kid realli fun even follow us watch charl dicken classic christma tale scroog', 'great purchas aromat herb', 'great price larg quantiti', 'frontier alway good qualiti spice except', 'use tea cook good qualiti good price', 'use decrea cough allow work properli offic without disturb other much', 'thank', 'coat soft shine seem energ instead letharg realli seem love', 'seem much healthier happier better ingredi dog food one', 'great product fresh', 'receiv product found would expir year fine', 'product true descript', 'problem ingredi ic diet', 'allergi appl famili elimin fruit bar fruit snack found', 'good flavor', 'pear strawberri good', 'gorg delight great wide select flavor handi go young children', 'tri mani differ type coffe includ freshroast wholebean grindityourself type differ brand alway wind right back enjoy cup ', 'excel grind ever go sip handsdown', 'enjoy', 'also tri gevalia folger brand alway come back tast good blend freshli ground bean', 'coffe never tast strong best cup coffe morn', 'coffe drinker mani year', 'saw brand decid tri fallen complet', 'smooth delici', 'even brought back bag luggag wo nt without', 'enjoy', 'honey tast great plu fact raw research indic may use heal stomach ulcer bonu', 'great product', 'ship fast', 'quit tasti', 'yuum', 'get 15 worth price', 'decent mix rice cracker look someth nt overwhelm amount seawe', 'recent began use salmon pouch realli like conveni use tast great', 'pouch easi open tear top pouch premad notch initi easi open', 'keep salmon pouch work carri everi day carri edc bag case get stuck somewher need quick easi healthi snack keep go', 'pouch rel strong would easili punctur object', 'salmon good sourc protein omega3 fatti acid', 'salmon label product thailand expir date 2 year date purchas salmon last awhil need concern expir date', 'seen product sale local groceri store dollar great deal', 'overal satisfi product would highli recommend chicken sea premium wildcaught pink salmon pouch other', 'pouch salmon perfect health consciou person go', 'easi carri refriger need', 'lean low calori high qualiti protien', 'oh tast great', 'hey everyon rare submit review felt need let everyon know great product', 'price well packag perfectli awesom salad', 'mild compar can salmon excel omel also good toast sandwich lettuc tomato mayo thousand island dress', 'first chicken sea pink salmon tast great easi use quick top salad lunch', 'health benefit strong well omega 3 also entir packet 70 calori low fat well', 'si great go contain would buy', 'product nt tast like fresh frozen salmon great hand', 'believ salmon good portion right size', 'need hand run fresh fish need nutrit easi form', 'salmon realli good', 'except even healthi', 'togeth separ make great sandwich', 'good bowl soup great combin fish meat sandwich', 'make mouth water think', 'product good', 'nice snack size packag individu use', 'lox howev smoke quit good healthi', 'would recommend product everyon', 'bone skin meat salmon', 'good product', 'conveni easi messi good price dog enjoy treat', 'like make differ thing', 'thumb', 'love salmon', 'love can tuna', 'love chicken sea tuna particular', 'love right', 'base review realli thought might someth special', 'item might suitabl camp strand desert island', 'addit star conveni', 'arriv promptli describ', 'seem great valu price bought underweight dog picki eater', 'tastiest purchas grilledroast pepper ever tast think roast pepper connoisseur', 'roast way well anyon ever tast go crazi', 'need would rather purchas cook pepper delallo grill piquillo pepper disappoint', 'usual purchas store howev check price onlin quit save amazon case 12', 'case arriv good condit jar appropri expir date', 'liquid flavor natur oil pepper delici', 'tri', 'trader joe discontinu piquillo found delallo pepper amazon order enjoy ever sinc', 'appear flavor countri origin peru tj brand though delallo product may littl flavor', 'anyway receiv 12pack good condit sever day order pleas qualiti product prompt care pack ship breakag ', 'want origin tast succumb silli idea make sugar bomb healthi ', 'caramel melt mouth give right right amout chew', 'suffic say would give away brother box', 'island angel go far', 'gave island angel chocol told look', 'excel sea salt caramel chocol', 'got wife love', 'order soon', 'purchas christma gift recipi fell love', 'right combin rich sweet contrast salti', 'order second time', 'absolut best', 'prepar may eat whole box', 'best salt chocol great price', 'satisfi purchas caramel cover dark chocol sweet mona', 'sent someon special love caramel extrem import arriv perfect condit ', 'sweet mona took extra care packag caramel would nt melt june mail east coast temp upper 80', 'made safe without melt heard tast yummi well', 'thank sweet mona excel care qualiti product', 'best chocol ever', 'milk chocol tast fantast', 'howev dark chocol fan', 'worth money', '00 one caramel whole food qualiti product far better', 'order encourag', 'better', 'bit worth', 'much softer expect super delici overal', 'great get work day well expand waist line', 'instead receiv chic bowwrap box encas thermal bag three brick start frozen chill', 'chocol melt caramel soft still intact abl use luncheon plan fo', 'put order review categori care detail saw servic', 'day place order receiv email sweet mona state look temperatur texa would pack chocol accordingli', 'pack materi kept caramel intact beauti', 'certainli order sweet mona apprec care put product', 'best', 'could stop eat', 'perfect combain sweet salt chewi', 'want', 'new sea salt caramel chocol experi marvel', 'squar fresh tast wellpackag handl summer heat', 'tast sweet caramel dark chocol spice sea salt quit yummi', 'thrill sweet mona', 'sea salt caramel ship pack materi keep melt work', 'wife rave chocol', 'comment everi time ate one kept hidden gone', 'perfect mother day gift', 'love chocol', 'far best long time best combo salt sweet', 'sure buy', 'box chocol seriou gift', '2 layer love delici chocol packag great', 'best chocol ever', 'fresh tasti excel', 'would highli recommend anyon look authent sea salt chocol', 'one word yum yum yum ', 'ok 3 word caus yum', 'yum', 'yum', 'tri like sorri gone one day', 'order 2 wo nt disappear one day', 'order time 2 box caus half love much', 'ye gift best salt caramel chocol plunk right guy mouth', 'primo chocol feel right spring tast rememb', 'got treat look share rest', 'tradit symbol love get best chocol afficianado tast', 'rememb', 'jasmin pearl tea favorit tea', 'tea delici', 'although prefer use loos tea tazo bag pearl tea bag conveni travel meet', 'year ago tea retreat fell love uniqu multidimension flavor', 'sweet tea alway add sugar tea one sweet enough without extra suga', 'howev sweet overpow also strong spice flavor', 'smell amaz brew tast good', 'make excel hot ice tea without milkcream', 'look someth littl bit differ spice tea cabinet perfect choic', 'treat excel train give dog treat', 'low calori natur give mani treat day without worri dog get fat digest issu', 'also smell amaz mostli like cinnamon ', 'dens crumbl easili put pocket without get stinki treat crumb everywher', 'realli think perfect treat boston terri', 'treat smell good tempt tast', 'order fruitabl dog treat past keep come back', 'good dog dog love ', 'even given friend famili dog', 'fruitabl one best dog treat', 'dog love', 'favorit appl banana', 'treat great', 'smell wonder dog love', 'also healthi great dog littl weight low calori', 'seller excel treat got much faster origin estim', 'would definit recommend anyon small dog', 'dog love treat pumpkin seem keep tummi troubl minimum', 'awesom benefit consid natur grass unabl find grass product actual work', 'great dog treat', 'defin recommend anyon search healthi treat pet', 'boxer love get excit open bag', '1 calori per treat come fun shape decent size', 'bought varieti pack 3 time', 'dog absolut love treat', 'bought schnauzer friend poodl casey bella love', 'purchas 4pack save cost treat ship well', 'qualiti much dog love fantast price', 'treat great', 'dog ate well sister dog', 'cute littl flower type piec smaller usual feed dog 50 lb work good big dog', 'go order', 'love fact natur', 'keebler use make mint cooki scout one bite guy astonish similar', 'cooki chocol fudg ice wonder frozen summer', 'smash top strawberri yum', 'make great cooki cream ice cream mint chocol chip', 'love thing buy year', 'highli highli recommend', 'dog beaudi goe crazi greeni', 'product price well deliveri quick doo', 'love dog love win win', 'dog love treat', 'purchas greeni local pet store year', 'bargain exactli product judg dog devour', 'fell love stash chocol mint tea two year ago', 'thrill abl buy econom environment friendli way', 'tri mani oolong tea far best', 'wonder light coconut mango flavor', 'two flavor blend well togeth neither one overpow', 'definit buy', 'realli nice tea smell wonder', 'enjoy teaspoon sugar raw', 'store well wrap foil', 'usual buy box 100 teabag sinc excel valu', 'suppos use loos flower get sediment cup seen happen brand chamomil tea bag nt', 'realli truli like chamomil tea restaur ginorm box 1000 singleserv tea bag good choic', 'fast ship', 'smell good open tea bag tast like water coffe faint mint aftertast', 'great altern sweeten', 'leav tast detect', 'read two articl littl research decid tri stevia', 'kroger carri two ro three stevia base product howev compar list ingredi decid buy stevia raw', 'ok tire tast great everyht use curiou', 'sound plausibl', 'simpli use product like', 'hope info help', 'everyon gret day', 'groceri store stevia raw cheaper', 'like sugar raw buy', 'way better regular sugar bleach process bone char real ', 'would mean pure stevia', 'dextros cheap addit sweet made corn', 'great finish tough workout need carb', 'let bypass take sugarstevia pack move', 'superb huh', 'get less', 'ad one pack coffe tast final sweet', 'shop pick box truvia buy cours tire coffe tast unsweeten', 'stevia raw sugar glucos form realli 0 calori amount', 'one best allnatur zero calori sweeten buy', 'great diabet dieter one spike blood sugar still allnatur', 'love stuff', 'tri major stevia brand includ everyth whole food stevia raw whole food nt carri sadli brand nt tast like crap', 'sugar free flavor', 'niec love much', 'digest issu often experi feedback mint ', 'hope enjoy much niec', 'absolut love pumpkin spice latt serv starbuck', 'nutmeg top stuff still hit spot also add nutmeg ', 'heat small pan milk stove add via readi brew mug pour mix enjoy', 'also cheaper go starbuck', 'grand size latt 4 wherea one packet via readi brew amazon come 2']\n"
          ]
        }
      ]
    },
    {
      "cell_type": "code",
      "source": [
        "# Create a dataframe\n",
        "df_cleaned_text = pd.DataFrame(lower_case_list, columns=['Text'])\n",
        "print(df_cleaned_text)"
      ],
      "metadata": {
        "colab": {
          "base_uri": "https://localhost:8080/"
        },
        "id": "8Ubg3RmM1a4j",
        "outputId": "31b2f79f-0741-444c-a99f-a8f652a4a8d2"
      },
      "execution_count": null,
      "outputs": [
        {
          "output_type": "stream",
          "name": "stdout",
          "text": [
            "                                                   Text\n",
            "0                       peanut actual small size unsalt\n",
            "1        sure error vendor intend repres product jumbo \n",
            "2           look secret ingredi robitussin believ found\n",
            "3                                        flavor medicin\n",
            "4     complaint bit much redblack licoriceflavor pie...\n",
            "...                                                 ...\n",
            "2092      absolut love pumpkin spice latt serv starbuck\n",
            "2093   nutmeg top stuff still hit spot also add nutmeg \n",
            "2094  heat small pan milk stove add via readi brew m...\n",
            "2095                           also cheaper go starbuck\n",
            "2096  grand size latt 4 wherea one packet via readi ...\n",
            "\n",
            "[2097 rows x 1 columns]\n"
          ]
        }
      ]
    },
    {
      "cell_type": "code",
      "source": [
        "# Appending initial sentiment onto processed Text\n",
        "df_clean = df_cleaned_text \n",
        "df_clean['sentiment'] = y\n",
        "print(df_clean)"
      ],
      "metadata": {
        "id": "6X6gmgE5L17D",
        "colab": {
          "base_uri": "https://localhost:8080/"
        },
        "outputId": "4a654341-20b2-44ee-e5e9-f634b63aeadd"
      },
      "execution_count": null,
      "outputs": [
        {
          "output_type": "stream",
          "name": "stdout",
          "text": [
            "                                                   Text  sentiment\n",
            "0                       peanut actual small size unsalt          0\n",
            "1        sure error vendor intend repres product jumbo           0\n",
            "2           look secret ingredi robitussin believ found          0\n",
            "3                                        flavor medicin          0\n",
            "4     complaint bit much redblack licoriceflavor pie...          0\n",
            "...                                                 ...        ...\n",
            "2092      absolut love pumpkin spice latt serv starbuck          1\n",
            "2093   nutmeg top stuff still hit spot also add nutmeg           1\n",
            "2094  heat small pan milk stove add via readi brew m...          1\n",
            "2095                           also cheaper go starbuck          1\n",
            "2096  grand size latt 4 wherea one packet via readi ...          1\n",
            "\n",
            "[2097 rows x 2 columns]\n"
          ]
        }
      ]
    },
    {
      "cell_type": "code",
      "source": [
        "import pandas as pd\n",
        "import numpy as np\n",
        "from sklearn.model_selection import train_test_split\n",
        "from sklearn.feature_extraction.text import CountVectorizer\n",
        "from sklearn.naive_bayes import GaussianNB\n",
        "from sklearn import metrics\n",
        "from sklearn.metrics import accuracy_score, f1_score, recall_score, precision_score, classification_report, confusion_matrix\n",
        "# code taken from https://github.com/jradishness/sentiment-analysis/blob/master/final_code_GaussianNB.py\n",
        "\n",
        "# DATA SPLITING\n",
        "print(\"Splitting Data into subsets...\")\n",
        "X_train, X_test, y_train, y_test = train_test_split(df_clean['Text'],   # Test-Train Split function\n",
        "                                                    df_clean['sentiment'],\n",
        "                                                    train_size = 0.8,\n",
        "                                                    test_size = 0.2,\n",
        "                                                    random_state=14\n",
        "                                                    )\n",
        "print(\"Training shape is: \", X_train.shape)\n",
        "# FEATURE EXTRACTION\n",
        "print(\"Extracting features...\")\n",
        "vect = CountVectorizer(min_df=1            # Minimum Document Frequency\n",
        "                       #ngram_range=(1,3),   # unigrams to trigrams\n",
        "                       ).fit(X_train)\n",
        "X_train_vectorized = vect.transform(X_train)\n",
        "X_test_vectorized = vect.transform(X_test)\n",
        "num_features = len(vect.get_feature_names_out ())\n",
        "print(len(vect.get_feature_names_out ()), \"features found.\")     # Feature check\n",
        "\n",
        "# Numpy Dense Array Transformation\n",
        "print(\"Converting to Numpy Dense Array...\")\n",
        "X_train_dense = X_train_vectorized.toarray()   # Convert to Dense Numpy Array\n",
        "X_test_dense = X_test_vectorized.toarray()"
      ],
      "metadata": {
        "id": "BlFjs8dmL6Iq",
        "colab": {
          "base_uri": "https://localhost:8080/"
        },
        "outputId": "3b9e1a4d-5142-4587-85d8-bcb1bcb4f0aa"
      },
      "execution_count": null,
      "outputs": [
        {
          "output_type": "stream",
          "name": "stdout",
          "text": [
            "Splitting Data into subsets...\n",
            "Training shape is:  (1677,)\n",
            "Extracting features...\n",
            "2289 features found.\n",
            "Converting to Numpy Dense Array...\n"
          ]
        }
      ]
    },
    {
      "cell_type": "code",
      "source": [
        "from sklearn.metrics import confusion_matrix, accuracy_score, recall_score,\\\n",
        "    precision_score, f1_score, roc_auc_score"
      ],
      "metadata": {
        "id": "9nk1784iaGD1"
      },
      "execution_count": null,
      "outputs": []
    },
    {
      "cell_type": "code",
      "source": [
        "# Gaussian Naive Bayes model\n",
        "print(\"Training/Evaluating Gaussian Naive Bayes model...\")\n",
        "gnb_model = GaussianNB().fit((X_train_dense), y_train)\n",
        "\n",
        "# get the prediction from a knn\n",
        "y_pred_train_gnb = gnb_model.predict_proba(X_train_dense)\n",
        "y_pred_test_gnb = gnb_model.predict_proba(X_test_dense)\n",
        "\n",
        "# get the score from a knn\n",
        "gnb_auc_train = roc_auc_score(y_train, y_pred_train_gnb[:, 1])\n",
        "print('Train AUC-ROC: {:.4f}'.format(gnb_auc_train))\n",
        "\n",
        "gnb_auc_test = roc_auc_score(y_test, y_pred_test_gnb[:, 1])\n",
        "print('Test AUC-ROC: {:.4f}'.format(gnb_auc_test))"
      ],
      "metadata": {
        "colab": {
          "base_uri": "https://localhost:8080/"
        },
        "id": "N_bzbTLZZ-2_",
        "outputId": "4da1227a-3688-40a4-b743-e204b244dc56"
      },
      "execution_count": null,
      "outputs": [
        {
          "output_type": "stream",
          "name": "stdout",
          "text": [
            "Training/Evaluating Gaussian Naive Bayes model...\n",
            "Train AUC-ROC: 0.8457\n",
            "Test AUC-ROC: 0.6364\n"
          ]
        }
      ]
    },
    {
      "cell_type": "code",
      "source": [
        "from sklearn.neighbors import KNeighborsClassifier\n",
        "knn = KNeighborsClassifier(n_neighbors=50)                        # K = 50\n",
        "knn.fit(X_train_dense, y_train)                                   # fit the model\n",
        "knn_pred_train = knn.predict(X_train_dense)                       # make predictions\n",
        "knn_score_train = knn.predict_proba(X_train_dense)                # get prediction scores\n",
        "\n",
        "# get the prediction from a knn\n",
        "y_pred_train_knn = knn.predict_proba(X_train_dense)\n",
        "y_pred_test_knn = knn.predict_proba(X_test_dense)\n",
        "\n",
        "# get the score from a knn\n",
        "# auc-roc\n",
        "knn_auc_train = roc_auc_score(y_train, y_pred_train_knn[:, 1])\n",
        "print('Train AUC-ROC: {:.4f}'.format(knn_auc_train))\n",
        "\n",
        "knn_auc_test = roc_auc_score(y_test, y_pred_test_knn[:, 1])\n",
        "print('Test AUC-ROC: {:.4f}'.format(knn_auc_test))"
      ],
      "metadata": {
        "colab": {
          "base_uri": "https://localhost:8080/"
        },
        "id": "0ja2KenxabTA",
        "outputId": "1d764495-8b35-4768-b006-b03a25f47fcb"
      },
      "execution_count": null,
      "outputs": [
        {
          "output_type": "stream",
          "name": "stdout",
          "text": [
            "Train AUC-ROC: 0.7274\n",
            "Test AUC-ROC: 0.6149\n"
          ]
        }
      ]
    },
    {
      "cell_type": "code",
      "source": [
        "'''\n",
        "from sklearn.linear_model import LogisticRegression\n",
        "\n",
        "log_clf = LogisticRegression()          \n",
        "log_clf.fit(X_train_dense, y_train)                                    # fit the model\n",
        "log_clf_pred_train = log_clf.predict(X_train_dense)                    # make predictions\n",
        "log_clf_score_train = log_clf.predict_proba(X_train_dense)             # get prediction scores\n",
        "\n",
        "# get the prediction from a logistic regression\n",
        "y_pred_train_log = log_clf.predict_proba(X_train_dense)\n",
        "y_pred_test_log = log_clf.predict_proba(X_test_dense)\n",
        "\n",
        "# get the score from a random forest\n",
        "# auc-roc\n",
        "log_auc_train = roc_auc_score(y_train, y_pred_train_log[:, 1])\n",
        "print('Train AUC-ROC: {:.4f}'.format(log_auc_train))\n",
        "\n",
        "log_auc_test = roc_auc_score(y_test, y_pred_test_log[:, 1])\n",
        "print('Test AUC-ROC: {:.4f}'.format(log_auc_test))\n",
        "'''\n",
        "# Display coefficients\n",
        "log_clf_coef = pd.DataFrame({\n",
        "    'Feature Name': vect.get_feature_names_out(),\n",
        "    'Coefficient': log_clf.coef_[0]\n",
        "})\n",
        "print(log_clf_coef.sort_values(by=['Coefficient'],ascending=True))\n",
        "\n",
        "print(X_test[0:5])\n",
        "print(y_pred_test_log[0:5])"
      ],
      "metadata": {
        "colab": {
          "base_uri": "https://localhost:8080/",
          "height": 244
        },
        "id": "XJMh0VU0aeHj",
        "outputId": "6362edb7-5270-43ec-c4fb-4b47081ed25f"
      },
      "execution_count": null,
      "outputs": [
        {
          "output_type": "error",
          "ename": "NameError",
          "evalue": "ignored",
          "traceback": [
            "\u001b[0;31m---------------------------------------------------------------------------\u001b[0m",
            "\u001b[0;31mNameError\u001b[0m                                 Traceback (most recent call last)",
            "\u001b[0;32m<ipython-input-14-dd64c920bb5b>\u001b[0m in \u001b[0;36m<module>\u001b[0;34m\u001b[0m\n\u001b[1;32m     22\u001b[0m log_clf_coef = pd.DataFrame({\n\u001b[1;32m     23\u001b[0m     \u001b[0;34m'Feature Name'\u001b[0m\u001b[0;34m:\u001b[0m \u001b[0mvect\u001b[0m\u001b[0;34m.\u001b[0m\u001b[0mget_feature_names_out\u001b[0m\u001b[0;34m(\u001b[0m\u001b[0;34m)\u001b[0m\u001b[0;34m,\u001b[0m\u001b[0;34m\u001b[0m\u001b[0;34m\u001b[0m\u001b[0m\n\u001b[0;32m---> 24\u001b[0;31m     \u001b[0;34m'Coefficient'\u001b[0m\u001b[0;34m:\u001b[0m \u001b[0mlog_clf\u001b[0m\u001b[0;34m.\u001b[0m\u001b[0mcoef_\u001b[0m\u001b[0;34m[\u001b[0m\u001b[0;36m0\u001b[0m\u001b[0;34m]\u001b[0m\u001b[0;34m\u001b[0m\u001b[0;34m\u001b[0m\u001b[0m\n\u001b[0m\u001b[1;32m     25\u001b[0m })\n\u001b[1;32m     26\u001b[0m \u001b[0mprint\u001b[0m\u001b[0;34m(\u001b[0m\u001b[0mlog_clf_coef\u001b[0m\u001b[0;34m.\u001b[0m\u001b[0msort_values\u001b[0m\u001b[0;34m(\u001b[0m\u001b[0mby\u001b[0m\u001b[0;34m=\u001b[0m\u001b[0;34m[\u001b[0m\u001b[0;34m'Coefficient'\u001b[0m\u001b[0;34m]\u001b[0m\u001b[0;34m,\u001b[0m\u001b[0mascending\u001b[0m\u001b[0;34m=\u001b[0m\u001b[0;32mTrue\u001b[0m\u001b[0;34m)\u001b[0m\u001b[0;34m)\u001b[0m\u001b[0;34m\u001b[0m\u001b[0;34m\u001b[0m\u001b[0m\n",
            "\u001b[0;31mNameError\u001b[0m: name 'log_clf' is not defined"
          ]
        }
      ]
    },
    {
      "cell_type": "code",
      "source": [
        "from sklearn.tree import DecisionTreeClassifier, plot_tree\n",
        "from sklearn.metrics import confusion_matrix, accuracy_score, recall_score,\\\n",
        "    precision_score, f1_score, roc_auc_score\n",
        "\n",
        "dt_clf = DecisionTreeClassifier(max_depth=10)          \n",
        "dt_clf.fit(X_train_dense, y_train)                                # fit the model\n",
        "dt_clf_pred_train = dt_clf.predict(X_train_dense)                 # make predictions\n",
        "dt_clf_score_train = dt_clf.predict_proba(X_train_dense)          # get prediction scores\n",
        "\n",
        "# get the prediction from a decision tree\n",
        "y_pred_train_dt = dt_clf.predict_proba(X_train_dense)\n",
        "y_pred_test_dt = dt_clf.predict_proba(X_test_dense)\n",
        "\n",
        "# get the score from a random forest\n",
        "# auc-roc\n",
        "dt_auc_train = roc_auc_score(y_train, y_pred_train_dt[:, 1])\n",
        "print('Train AUC-ROC: {:.4f}'.format(dt_auc_train))\n",
        "\n",
        "dt_auc_test = roc_auc_score(y_test, y_pred_test_dt[:, 1])\n",
        "print('Test AUC-ROC: {:.4f}'.format(dt_auc_test))"
      ],
      "metadata": {
        "id": "vwpAfVdSahJy"
      },
      "execution_count": null,
      "outputs": []
    },
    {
      "cell_type": "code",
      "source": [
        "'''from sklearn.ensemble import RandomForestClassifier\n",
        "rf = RandomForestClassifier(max_depth = 5)\n",
        "rf.fit(X_train_dense, y_train)\n",
        "\n",
        "# get the prediction from a random forest\n",
        "y_pred_train_rf = rf.predict_proba(X_train_dense)\n",
        "y_pred_test_rf = rf.predict_proba(X_test_dense)\n",
        "\n",
        "# get the score from a random forest\n",
        "rf_auc_train = roc_auc_score(y_train, y_pred_train_rf[:, 1])\n",
        "print('Train AUC-ROC: {:.4f}'.format(rf_auc_train))\n",
        "\n",
        "rf_auc_test = roc_auc_score(y_test, y_pred_test_rf[:, 1])\n",
        "print('Test AUC-ROC: {:.4f}'.format(rf_auc_test))\n",
        "'''"
      ],
      "metadata": {
        "id": "HwFcK4KfaizM"
      },
      "execution_count": null,
      "outputs": []
    },
    {
      "cell_type": "code",
      "source": [
        "'''from sklearn.ensemble import GradientBoostingClassifier\n",
        "clf = GradientBoostingClassifier(n_estimators=10,\n",
        "learning_rate=0.01,\n",
        "max_depth=7\n",
        ").fit(X_train_dense, y_train)\n",
        "\n",
        "# get the prediction from a random forest\n",
        "y_pred_train_clf = clf.predict_proba(X_train_dense)\n",
        "y_pred_test_clf = clf.predict_proba(X_test_dense)\n",
        "\n",
        "# get the score from a random forest\n",
        "# auc-roc\n",
        "clf_auc_train = roc_auc_score(y_train, y_pred_train_clf[:, 1])\n",
        "print('Train AUC-ROC: {:.4f}'.format(clf_auc_train))\n",
        "\n",
        "clf_auc_test = roc_auc_score(y_test, y_pred_test_clf[:, 1])\n",
        "print('Test AUC-ROC: {:.4f}'.format(clf_auc_test))\n",
        "'''"
      ],
      "metadata": {
        "id": "URNV2eV7aj2z"
      },
      "execution_count": null,
      "outputs": []
    }
  ]
}