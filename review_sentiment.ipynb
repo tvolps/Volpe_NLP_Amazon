{
  "nbformat": 4,
  "nbformat_minor": 0,
  "metadata": {
    "colab": {
      "provenance": []
    },
    "kernelspec": {
      "name": "python3",
      "display_name": "Python 3"
    },
    "language_info": {
      "name": "python"
    }
  },
  "cells": [
    {
      "cell_type": "code",
      "execution_count": null,
      "metadata": {
        "colab": {
          "base_uri": "https://localhost:8080/"
        },
        "id": "zIQ2zWetBn0j",
        "outputId": "8cf67d18-37f6-4192-93a2-ed0c3e2afe09"
      },
      "outputs": [
        {
          "output_type": "execute_result",
          "data": {
            "text/plain": [
              "('stop_words.txt', <http.client.HTTPMessage at 0x7facb62eac90>)"
            ]
          },
          "metadata": {},
          "execution_count": 1
        }
      ],
      "source": [
        "from urllib.request import urlretrieve\n",
        "urlretrieve('https://drive.google.com/uc?export=download&id=1xCLdrQzjKzgPhbFZ7x9fe7acmUDX7m-p', 'stop_words.txt')"
      ]
    },
    {
      "cell_type": "code",
      "source": [
        "!pip install pyspark"
      ],
      "metadata": {
        "colab": {
          "base_uri": "https://localhost:8080/"
        },
        "id": "Unc1IfsxCWrR",
        "outputId": "fd3c6bc7-c2e2-4ab8-ec34-ea2c79454f92"
      },
      "execution_count": null,
      "outputs": [
        {
          "output_type": "stream",
          "name": "stdout",
          "text": [
            "Looking in indexes: https://pypi.org/simple, https://us-python.pkg.dev/colab-wheels/public/simple/\n",
            "Collecting pyspark\n",
            "  Downloading pyspark-3.3.0.tar.gz (281.3 MB)\n",
            "\u001b[K     |████████████████████████████████| 281.3 MB 46 kB/s \n",
            "\u001b[?25hCollecting py4j==0.10.9.5\n",
            "  Downloading py4j-0.10.9.5-py2.py3-none-any.whl (199 kB)\n",
            "\u001b[K     |████████████████████████████████| 199 kB 49.8 MB/s \n",
            "\u001b[?25hBuilding wheels for collected packages: pyspark\n",
            "  Building wheel for pyspark (setup.py) ... \u001b[?25l\u001b[?25hdone\n",
            "  Created wheel for pyspark: filename=pyspark-3.3.0-py2.py3-none-any.whl size=281764026 sha256=63167d1915a21c1e9a2beff9e95a9ed48159e6138ea074ebe45725bffc5f2907\n",
            "  Stored in directory: /root/.cache/pip/wheels/7a/8e/1b/f73a52650d2e5f337708d9f6a1750d451a7349a867f928b885\n",
            "Successfully built pyspark\n",
            "Installing collected packages: py4j, pyspark\n",
            "Successfully installed py4j-0.10.9.5 pyspark-3.3.0\n"
          ]
        }
      ]
    },
    {
      "cell_type": "code",
      "source": [
        "from pyspark.sql import SparkSession\n",
        "from pyspark import SparkConf, SparkContext\n",
        "conf = SparkConf().setMaster(\"local\").setAppName(\"review_sentiment\")\n",
        "sc = SparkContext.getOrCreate( conf =conf)"
      ],
      "metadata": {
        "id": "t-6YQobiCZAs"
      },
      "execution_count": null,
      "outputs": []
    },
    {
      "cell_type": "code",
      "source": [
        "from google.colab import drive\n",
        "drive.mount('/content/drive/')"
      ],
      "metadata": {
        "colab": {
          "base_uri": "https://localhost:8080/"
        },
        "id": "BdNU4YpWDZa_",
        "outputId": "8db9f4fc-8c19-49a9-e21d-2c2aa885c07d"
      },
      "execution_count": null,
      "outputs": [
        {
          "output_type": "stream",
          "name": "stdout",
          "text": [
            "Mounted at /content/drive/\n"
          ]
        }
      ]
    },
    {
      "cell_type": "code",
      "source": [
        "# read stop words\n",
        "stop_words_file = open('stop_words.txt')\n",
        "stop_words = stop_words_file.read().split()\n",
        "stop_words_file.close()"
      ],
      "metadata": {
        "id": "Jo8J9eJ1Cc33"
      },
      "execution_count": null,
      "outputs": []
    },
    {
      "cell_type": "code",
      "source": [
        "#import pyspark.sql.functions\n",
        "#from pyspark.sql.types import *\n",
        "import pandas as pd\n",
        "\n",
        "data = pd.read_csv(\"/content/drive/MyDrive/Grad School/MSBA/Big Data Tech/Reviews.csv\")\n",
        "data = data.tail(500)"
      ],
      "metadata": {
        "id": "sKRos6xpCjQk"
      },
      "execution_count": null,
      "outputs": []
    },
    {
      "cell_type": "code",
      "source": [
        "df2 = data[['Id', 'ProductId', 'UserId', 'Text']]\n",
        "\n",
        "'''\n",
        "for x in range(len(df2)):\n",
        "  if df2.iloc[x,3][-1] == \".\":\n",
        "    df2.iloc[x,3] = df2.iloc[x,3][:-2]\n",
        "'''\n",
        "\n",
        "df2['Text'] = df2['Text'].str.replace(\"!\", \".\")\n",
        "df2['Text'] = df2['Text'].str.replace(\"?\", \".\")\n",
        "\n",
        "df2 = (df2.set_index(['Id', 'ProductId', 'UserId'])\n",
        "   .apply(lambda x: x.str.split('.').explode())\n",
        "   .reset_index())  \n",
        "\n",
        "df2 = df2.loc[df2['Text'].str.strip().str.len() != 0]\n",
        "\n",
        "df2['Text'] = df2['Text'].str.strip(\"<br />\")"
      ],
      "metadata": {
        "colab": {
          "base_uri": "https://localhost:8080/"
        },
        "id": "LvsqHEOG5aCn",
        "outputId": "c4d22982-5d98-472f-c3bd-fd3e577d609d"
      },
      "execution_count": null,
      "outputs": [
        {
          "output_type": "stream",
          "name": "stderr",
          "text": [
            "/usr/local/lib/python3.7/dist-packages/ipykernel_launcher.py:9: SettingWithCopyWarning: \n",
            "A value is trying to be set on a copy of a slice from a DataFrame.\n",
            "Try using .loc[row_indexer,col_indexer] = value instead\n",
            "\n",
            "See the caveats in the documentation: https://pandas.pydata.org/pandas-docs/stable/user_guide/indexing.html#returning-a-view-versus-a-copy\n",
            "  if __name__ == '__main__':\n",
            "/usr/local/lib/python3.7/dist-packages/ipykernel_launcher.py:10: FutureWarning: The default value of regex will change from True to False in a future version. In addition, single character regular expressions will *not* be treated as literal strings when regex=True.\n",
            "  # Remove the CWD from sys.path while we load stuff.\n",
            "/usr/local/lib/python3.7/dist-packages/ipykernel_launcher.py:10: SettingWithCopyWarning: \n",
            "A value is trying to be set on a copy of a slice from a DataFrame.\n",
            "Try using .loc[row_indexer,col_indexer] = value instead\n",
            "\n",
            "See the caveats in the documentation: https://pandas.pydata.org/pandas-docs/stable/user_guide/indexing.html#returning-a-view-versus-a-copy\n",
            "  # Remove the CWD from sys.path while we load stuff.\n"
          ]
        }
      ]
    },
    {
      "cell_type": "code",
      "source": [
        "df2.to_csv(r'/content/drive/MyDrive/Grad School/MSBA/Big Data Tech/processed_reviews2.csv', index = False)"
      ],
      "metadata": {
        "id": "tMh9KEaaJbDO"
      },
      "execution_count": null,
      "outputs": []
    }
  ]
}